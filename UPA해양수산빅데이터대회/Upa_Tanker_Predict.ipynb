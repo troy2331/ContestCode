{
  "nbformat": 4,
  "nbformat_minor": 0,
  "metadata": {
    "colab": {
      "name": "upa_예상도착_T-001",
      "provenance": [],
      "collapsed_sections": []
    },
    "kernelspec": {
      "name": "python3",
      "display_name": "Python 3"
    },
    "language_info": {
      "name": "python"
    }
  },
  "cells": [
    {
      "cell_type": "code",
      "metadata": {
        "id": "WEuIVsCRgYj1"
      },
      "source": [
        "import pandas as pd\n",
        "import numpy as np\n",
        "from math import radians, cos, sin, asin, sqrt\n",
        "\n",
        "import matplotlib.pyplot as plt\n",
        "import seaborn as sns\n",
        "\n",
        "from datetime import datetime\n",
        "from datetime import timedelta\n",
        "\n",
        "from sklearn.preprocessing import MinMaxScaler\n",
        "from sklearn.preprocessing import LabelEncoder\n",
        "from sklearn.model_selection import train_test_split\n",
        "\n",
        "from sklearn.cluster import KMeans\n",
        "from sklearn.ensemble import RandomForestClassifier\n",
        "from sklearn.ensemble import RandomForestRegressor\n",
        "from sklearn.ensemble import RandomForestClassifier\n",
        "from sklearn.linear_model import LinearRegression\n",
        "from sklearn.cluster import KMeans\n",
        "\n",
        "from sklearn.metrics import accuracy_score\n",
        "from sklearn.metrics import f1_score\n",
        "from sklearn.metrics import mean_squared_error"
      ],
      "execution_count": null,
      "outputs": []
    },
    {
      "cell_type": "code",
      "metadata": {
        "id": "aZcsAJnXmbWQ"
      },
      "source": [
        "route = pd.read_csv(\"/content/drive/MyDrive/Dataset/upa/preprocess/T-001_route2.csv\",parse_dates=[\"Date from\",\"Date to\"])\n",
        "route = route.iloc[:93,:]"
      ],
      "execution_count": null,
      "outputs": []
    },
    {
      "cell_type": "code",
      "metadata": {
        "id": "jgPXiVePmg6g",
        "colab": {
          "base_uri": "https://localhost:8080/",
          "height": 297
        },
        "outputId": "83c81bf6-1aeb-48a9-87e7-76506e986cda"
      },
      "source": [
        "route.describe()"
      ],
      "execution_count": null,
      "outputs": [
        {
          "output_type": "execute_result",
          "data": {
            "text/html": [
              "<div>\n",
              "<style scoped>\n",
              "    .dataframe tbody tr th:only-of-type {\n",
              "        vertical-align: middle;\n",
              "    }\n",
              "\n",
              "    .dataframe tbody tr th {\n",
              "        vertical-align: top;\n",
              "    }\n",
              "\n",
              "    .dataframe thead th {\n",
              "        text-align: right;\n",
              "    }\n",
              "</style>\n",
              "<table border=\"1\" class=\"dataframe\">\n",
              "  <thead>\n",
              "    <tr style=\"text-align: right;\">\n",
              "      <th></th>\n",
              "      <th>Loaing Status</th>\n",
              "      <th>DFOC</th>\n",
              "      <th>Wave (per Distance)</th>\n",
              "      <th>Acc. Fatigue Index</th>\n",
              "      <th>Wind (per Distance)</th>\n",
              "    </tr>\n",
              "  </thead>\n",
              "  <tbody>\n",
              "    <tr>\n",
              "      <th>count</th>\n",
              "      <td>0.0</td>\n",
              "      <td>92.0</td>\n",
              "      <td>92.000000</td>\n",
              "      <td>92.000000</td>\n",
              "      <td>92.000000</td>\n",
              "    </tr>\n",
              "    <tr>\n",
              "      <th>mean</th>\n",
              "      <td>NaN</td>\n",
              "      <td>0.0</td>\n",
              "      <td>2.325000</td>\n",
              "      <td>362.041304</td>\n",
              "      <td>3.058696</td>\n",
              "    </tr>\n",
              "    <tr>\n",
              "      <th>std</th>\n",
              "      <td>NaN</td>\n",
              "      <td>0.0</td>\n",
              "      <td>1.164929</td>\n",
              "      <td>569.456791</td>\n",
              "      <td>1.455128</td>\n",
              "    </tr>\n",
              "    <tr>\n",
              "      <th>min</th>\n",
              "      <td>NaN</td>\n",
              "      <td>0.0</td>\n",
              "      <td>0.400000</td>\n",
              "      <td>0.300000</td>\n",
              "      <td>0.600000</td>\n",
              "    </tr>\n",
              "    <tr>\n",
              "      <th>25%</th>\n",
              "      <td>NaN</td>\n",
              "      <td>0.0</td>\n",
              "      <td>1.500000</td>\n",
              "      <td>43.450000</td>\n",
              "      <td>1.975000</td>\n",
              "    </tr>\n",
              "    <tr>\n",
              "      <th>50%</th>\n",
              "      <td>NaN</td>\n",
              "      <td>0.0</td>\n",
              "      <td>2.050000</td>\n",
              "      <td>123.550000</td>\n",
              "      <td>2.950000</td>\n",
              "    </tr>\n",
              "    <tr>\n",
              "      <th>75%</th>\n",
              "      <td>NaN</td>\n",
              "      <td>0.0</td>\n",
              "      <td>3.000000</td>\n",
              "      <td>415.400000</td>\n",
              "      <td>4.200000</td>\n",
              "    </tr>\n",
              "    <tr>\n",
              "      <th>max</th>\n",
              "      <td>NaN</td>\n",
              "      <td>0.0</td>\n",
              "      <td>5.900000</td>\n",
              "      <td>3183.700000</td>\n",
              "      <td>6.300000</td>\n",
              "    </tr>\n",
              "  </tbody>\n",
              "</table>\n",
              "</div>"
            ],
            "text/plain": [
              "       Loaing Status  DFOC  ...  Acc. Fatigue Index  Wind (per Distance)\n",
              "count            0.0  92.0  ...           92.000000            92.000000\n",
              "mean             NaN   0.0  ...          362.041304             3.058696\n",
              "std              NaN   0.0  ...          569.456791             1.455128\n",
              "min              NaN   0.0  ...            0.300000             0.600000\n",
              "25%              NaN   0.0  ...           43.450000             1.975000\n",
              "50%              NaN   0.0  ...          123.550000             2.950000\n",
              "75%              NaN   0.0  ...          415.400000             4.200000\n",
              "max              NaN   0.0  ...         3183.700000             6.300000\n",
              "\n",
              "[8 rows x 5 columns]"
            ]
          },
          "metadata": {},
          "execution_count": 180
        }
      ]
    },
    {
      "cell_type": "code",
      "metadata": {
        "id": "TrbXX7Z304Jb"
      },
      "source": [
        "route = route[route[\"Acc. Fatigue Index\"] <= 1500]"
      ],
      "execution_count": null,
      "outputs": []
    },
    {
      "cell_type": "code",
      "metadata": {
        "id": "Wt_VsCEPvQA0"
      },
      "source": [
        "route.drop([\"Date from\",\"Date to\",\"Port from\",\"Port to\"],axis=1,inplace=True) # 모델링에 필요없는 데이터는 모두 삭제\n",
        "route.drop([\"Loaing Status\",\"Mega-Ton-Mile\",\"Cargo Carried\",\"DFOC\"],axis=1,inplace=True) # Mega-Ton-mile, Cargo Carried, DFOC 데이터의 경우 대부분이 0인 의미없는 데이터이기 때문에 모델링에서 제외"
      ],
      "execution_count": null,
      "outputs": []
    },
    {
      "cell_type": "code",
      "metadata": {
        "id": "bqnklEkAvm0Q"
      },
      "source": [
        "scaler = MinMaxScaler()\n",
        "\n",
        "route = pd.DataFrame(scaler.fit_transform(route),columns=route.columns) # 스케일을 맞춰주기 위해 MinMaxScaler로 스케일링 실시 (0~1)"
      ],
      "execution_count": null,
      "outputs": []
    },
    {
      "cell_type": "code",
      "metadata": {
        "id": "Ekw4dH2JvzJ7"
      },
      "source": [
        "val_index = route.loc[route.days.isnull()].index # 기상 및 속도변수를 통해 도착지까지 걸리는 시간을 예측하는 회귀모형을 구축하는 것이 목표이기 때문에 days가 NaN값인 부분이 Validation set"
      ],
      "execution_count": null,
      "outputs": []
    },
    {
      "cell_type": "code",
      "metadata": {
        "id": "Ir3iXnabv0uK"
      },
      "source": [
        "train_df = route.drop(val_index) # days가 NaN값을 갖지 않는 데이터를 train_df로 정의\n",
        "val_df = route.loc[route.days.isnull()]\n",
        "train_df.dropna(inplace=True)"
      ],
      "execution_count": null,
      "outputs": []
    },
    {
      "cell_type": "code",
      "metadata": {
        "colab": {
          "base_uri": "https://localhost:8080/"
        },
        "id": "uysS7Irzwdo7",
        "outputId": "7ec4101a-6a89-4357-8cb2-1a72922d4c9a"
      },
      "source": [
        "X_train.isnull().sum()"
      ],
      "execution_count": null,
      "outputs": [
        {
          "output_type": "execute_result",
          "data": {
            "text/plain": [
              "Distance               0\n",
              " T from                0\n",
              " T to                  0\n",
              "Wave (per Distance)    0\n",
              "Acc. Fatigue Index     0\n",
              "Wind (per Distance)    0\n",
              "Avg. Wave Heigh        0\n",
              "Avg. Speed             0\n",
              "Avg. Win Speed         0\n",
              "dtype: int64"
            ]
          },
          "metadata": {},
          "execution_count": 186
        }
      ]
    },
    {
      "cell_type": "code",
      "metadata": {
        "colab": {
          "base_uri": "https://localhost:8080/"
        },
        "id": "xEfyWEzLv1iK",
        "outputId": "175255cc-b071-4c28-b634-d17e40ed425f"
      },
      "source": [
        "val_df.isnull().sum() # validation df를 보면 days의 결측값이 7개인것을 확인 할 수 있는데 밑에 Avg speed에도 7개의 결측값이 있는 것을 확인 할 수 있음"
      ],
      "execution_count": null,
      "outputs": [
        {
          "output_type": "execute_result",
          "data": {
            "text/plain": [
              "days                   6\n",
              "Distance               0\n",
              " T from                0\n",
              " T to                  0\n",
              "Wave (per Distance)    0\n",
              "Acc. Fatigue Index     0\n",
              "Wind (per Distance)    0\n",
              "Avg. Wave Heigh        0\n",
              "Avg. Speed             6\n",
              "Avg. Win Speed         0\n",
              "dtype: int64"
            ]
          },
          "metadata": {},
          "execution_count": 187
        }
      ]
    },
    {
      "cell_type": "code",
      "metadata": {
        "id": "6o5s1TJav2dK"
      },
      "source": [
        "X_val = val_df.drop(\"days\",axis=1) \n",
        "X_val.interpolate(axis=1,inplace=True) # 결측치 처리를 먼저 interpolate을 통해 선형적으로 처리\n",
        "X_val.reset_index(drop=True,inplace=True)"
      ],
      "execution_count": null,
      "outputs": []
    },
    {
      "cell_type": "code",
      "metadata": {
        "id": "EUdzXO6DwKzO"
      },
      "source": [
        "X_train = train_df.drop(\"days\",axis=1)\n",
        "y_train = train_df.days"
      ],
      "execution_count": null,
      "outputs": []
    },
    {
      "cell_type": "code",
      "metadata": {
        "id": "T7np5g45wLom"
      },
      "source": [
        "X_train, X_test, y_train, y_test = train_test_split(X_train,y_train,test_size=0.1) # 테스트셋은 전체 train셋의 10%를 테스트셋으로 정의"
      ],
      "execution_count": null,
      "outputs": []
    },
    {
      "cell_type": "code",
      "metadata": {
        "colab": {
          "base_uri": "https://localhost:8080/"
        },
        "id": "TQaXRxcFwMRm",
        "outputId": "31a2ded6-1674-4acd-c8d8-75fc96fdb605"
      },
      "source": [
        "RFR = RandomForestRegressor()\n",
        "\n",
        "RFR.fit(X_train,y_train)\n",
        "pred = RFR.predict(X_test)\n",
        "mse = mean_squared_error(y_test,pred)\n",
        "print(round(mse,4)) # 테스트셋 정확도(MSE값)"
      ],
      "execution_count": null,
      "outputs": [
        {
          "output_type": "stream",
          "text": [
            "0.0418\n"
          ],
          "name": "stdout"
        }
      ]
    },
    {
      "cell_type": "code",
      "metadata": {
        "id": "Zx55iQD-wNCm"
      },
      "source": [
        "feature_importance = RFR.feature_importances_.tolist()"
      ],
      "execution_count": null,
      "outputs": []
    },
    {
      "cell_type": "code",
      "metadata": {
        "colab": {
          "base_uri": "https://localhost:8080/",
          "height": 1000
        },
        "id": "-f7iRg_VwqZ7",
        "outputId": "ebbffba6-308d-4c2b-bd7e-3158e040e5d3"
      },
      "source": [
        "sns.set_style(\"darkgrid\")\n",
        "plt.figure(figsize=(15,15))\n",
        "plt.pie(feature_importance,labels=X_val.columns,autopct=\"%.2f\")"
      ],
      "execution_count": null,
      "outputs": [
        {
          "output_type": "execute_result",
          "data": {
            "text/plain": [
              "([<matplotlib.patches.Wedge at 0x7f46895d4150>,\n",
              "  <matplotlib.patches.Wedge at 0x7f46873bc890>,\n",
              "  <matplotlib.patches.Wedge at 0x7f46873c5150>,\n",
              "  <matplotlib.patches.Wedge at 0x7f46873c5990>,\n",
              "  <matplotlib.patches.Wedge at 0x7f4687350550>,\n",
              "  <matplotlib.patches.Wedge at 0x7f4687350e90>,\n",
              "  <matplotlib.patches.Wedge at 0x7f468735a510>,\n",
              "  <matplotlib.patches.Wedge at 0x7f468735ad90>,\n",
              "  <matplotlib.patches.Wedge at 0x7f46873502d0>],\n",
              " [Text(0.9573045101816697, 0.5418192270359494, 'Distance'),\n",
              "  Text(0.35120626963553964, 1.0424270507659943, '\\xa0T from'),\n",
              "  Text(-0.07294891154819418, 1.0975784510931026, '\\xa0T to'),\n",
              "  Text(-0.6078387993499681, 0.9168053195770569, 'Wave (per Distance)'),\n",
              "  Text(-0.9622108103610928, -0.5330575545138154, 'Acc. Fatigue Index'),\n",
              "  Text(0.19256797116334623, -1.0830131931246418, 'Wind (per Distance)'),\n",
              "  Text(0.6862926862492239, -0.8596524581485384, 'Avg. Wave Heigh'),\n",
              "  Text(1.0339345377988622, -0.37547219810080895, 'Avg. Speed'),\n",
              "  Text(1.094270004771312, -0.11213008810213676, 'Avg. Win Speed')],\n",
              " [Text(0.5221660964627288, 0.2955377602014269, '16.39'),\n",
              "  Text(0.19156705616483977, 0.5685965731450877, '6.87'),\n",
              "  Text(-0.03979031538992409, 0.5986791551416922, '5.59'),\n",
              "  Text(-0.33154843600907347, 0.5000756288602128, '10.93'),\n",
              "  Text(-0.5248422601969597, -0.29075866609844475, '36.53'),\n",
              "  Text(0.10503707518000702, -0.5907344689770774, '2.96'),\n",
              "  Text(0.37434146522684936, -0.4689013408082936, '12.88'),\n",
              "  Text(0.5639642933448339, -0.20480301714589577, '4.59'),\n",
              "  Text(0.5968745480570792, -0.06116186623752914, '3.25')])"
            ]
          },
          "metadata": {},
          "execution_count": 193
        },
        {
          "output_type": "display_data",
          "data": {
            "image/png": "[encoded data removed]",
            "text/plain": [
              "<Figure size 1080x1080 with 1 Axes>"
            ]
          },
          "metadata": {}
        }
      ]
    },
    {
      "cell_type": "markdown",
      "metadata": {
        "id": "3Y7Mqs5Lwwax"
      },
      "source": [
        "# Validation set predction\n",
        "\n"
      ]
    },
    {
      "cell_type": "code",
      "metadata": {
        "id": "AjWiC8R5wywF"
      },
      "source": [
        "pred = RFR.predict(X_val)\n",
        "pred_df = pd.DataFrame(pred,columns=[\"days\"])"
      ],
      "execution_count": null,
      "outputs": []
    },
    {
      "cell_type": "code",
      "metadata": {
        "id": "Zv4fcBpTw1BO"
      },
      "source": [
        "result_df = pred_df.join(X_val)"
      ],
      "execution_count": null,
      "outputs": []
    },
    {
      "cell_type": "code",
      "metadata": {
        "id": "A1Y6YJkRw17t"
      },
      "source": [
        "result_df = pd.DataFrame(scaler.inverse_transform(result_df),columns=train_df.columns)"
      ],
      "execution_count": null,
      "outputs": []
    },
    {
      "cell_type": "code",
      "metadata": {
        "id": "9vOQDfq1w2l3"
      },
      "source": [
        "route = pd.read_csv(\"/content/drive/MyDrive/Dataset/upa/preprocess/T-001_route2.csv\",parse_dates=[\"Date from\",\"Date to\"])"
      ],
      "execution_count": null,
      "outputs": []
    },
    {
      "cell_type": "code",
      "metadata": {
        "id": "pzxj9cHYw3NW"
      },
      "source": [
        " index = pd.DataFrame(route.loc[route.days.isnull()][\"Date from\"].to_list(),columns=[\"index\"])\n",
        " result_df = pd.concat([result_df,index],axis=1)"
      ],
      "execution_count": null,
      "outputs": []
    },
    {
      "cell_type": "code",
      "metadata": {
        "id": "JpLyWt3Mw3vm"
      },
      "source": [
        "result_df.set_index(\"index\",inplace=True)"
      ],
      "execution_count": null,
      "outputs": []
    },
    {
      "cell_type": "code",
      "metadata": {
        "colab": {
          "base_uri": "https://localhost:8080/",
          "height": 297
        },
        "id": "hmeOWsKow4S-",
        "outputId": "c9427cea-9da5-44a2-d789-003772af5d56"
      },
      "source": [
        "result_df"
      ],
      "execution_count": null,
      "outputs": [
        {
          "output_type": "execute_result",
          "data": {
            "text/html": [
              "<div>\n",
              "<style scoped>\n",
              "    .dataframe tbody tr th:only-of-type {\n",
              "        vertical-align: middle;\n",
              "    }\n",
              "\n",
              "    .dataframe tbody tr th {\n",
              "        vertical-align: top;\n",
              "    }\n",
              "\n",
              "    .dataframe thead th {\n",
              "        text-align: right;\n",
              "    }\n",
              "</style>\n",
              "<table border=\"1\" class=\"dataframe\">\n",
              "  <thead>\n",
              "    <tr style=\"text-align: right;\">\n",
              "      <th></th>\n",
              "      <th>days</th>\n",
              "      <th>Distance</th>\n",
              "      <th>T from</th>\n",
              "      <th>T to</th>\n",
              "      <th>Wave (per Distance)</th>\n",
              "      <th>Acc. Fatigue Index</th>\n",
              "      <th>Wind (per Distance)</th>\n",
              "      <th>Avg. Wave Heigh</th>\n",
              "      <th>Avg. Speed</th>\n",
              "      <th>Avg. Win Speed</th>\n",
              "    </tr>\n",
              "    <tr>\n",
              "      <th>index</th>\n",
              "      <th></th>\n",
              "      <th></th>\n",
              "      <th></th>\n",
              "      <th></th>\n",
              "      <th></th>\n",
              "      <th></th>\n",
              "      <th></th>\n",
              "      <th></th>\n",
              "      <th></th>\n",
              "      <th></th>\n",
              "    </tr>\n",
              "  </thead>\n",
              "  <tbody>\n",
              "    <tr>\n",
              "      <th>2018-01-16 00:38:00</th>\n",
              "      <td>6.277</td>\n",
              "      <td>10585.0</td>\n",
              "      <td>15.0</td>\n",
              "      <td>15.0</td>\n",
              "      <td>1.3</td>\n",
              "      <td>635.7</td>\n",
              "      <td>6.3</td>\n",
              "      <td>1.3</td>\n",
              "      <td>8.853191</td>\n",
              "      <td>6.2</td>\n",
              "    </tr>\n",
              "    <tr>\n",
              "      <th>2018-02-11 18:05:00</th>\n",
              "      <td>2.416</td>\n",
              "      <td>82.0</td>\n",
              "      <td>12.0</td>\n",
              "      <td>9.0</td>\n",
              "      <td>0.9</td>\n",
              "      <td>68.8</td>\n",
              "      <td>1.3</td>\n",
              "      <td>1.4</td>\n",
              "      <td>2.519622</td>\n",
              "      <td>1.4</td>\n",
              "    </tr>\n",
              "    <tr>\n",
              "      <th>2018-04-02 22:16:00</th>\n",
              "      <td>1.977</td>\n",
              "      <td>40.0</td>\n",
              "      <td>9.0</td>\n",
              "      <td>13.0</td>\n",
              "      <td>1.3</td>\n",
              "      <td>47.5</td>\n",
              "      <td>2.3</td>\n",
              "      <td>1.6</td>\n",
              "      <td>4.046927</td>\n",
              "      <td>2.3</td>\n",
              "    </tr>\n",
              "    <tr>\n",
              "      <th>2018-04-21 22:13:00</th>\n",
              "      <td>3.540</td>\n",
              "      <td>70.0</td>\n",
              "      <td>11.0</td>\n",
              "      <td>9.0</td>\n",
              "      <td>2.9</td>\n",
              "      <td>1100.5</td>\n",
              "      <td>3.2</td>\n",
              "      <td>2.9</td>\n",
              "      <td>9.445705</td>\n",
              "      <td>4.8</td>\n",
              "    </tr>\n",
              "    <tr>\n",
              "      <th>2018-10-11 23:44:00</th>\n",
              "      <td>6.233</td>\n",
              "      <td>3672.0</td>\n",
              "      <td>9.0</td>\n",
              "      <td>17.0</td>\n",
              "      <td>1.9</td>\n",
              "      <td>509.0</td>\n",
              "      <td>3.2</td>\n",
              "      <td>2.0</td>\n",
              "      <td>6.020055</td>\n",
              "      <td>3.3</td>\n",
              "    </tr>\n",
              "    <tr>\n",
              "      <th>2018-10-26 16:54:00</th>\n",
              "      <td>4.268</td>\n",
              "      <td>9359.0</td>\n",
              "      <td>12.0</td>\n",
              "      <td>9.0</td>\n",
              "      <td>0.9</td>\n",
              "      <td>168.4</td>\n",
              "      <td>4.7</td>\n",
              "      <td>0.9</td>\n",
              "      <td>6.068952</td>\n",
              "      <td>4.6</td>\n",
              "    </tr>\n",
              "    <tr>\n",
              "      <th>2018-11-29 20:28:00</th>\n",
              "      <td>NaN</td>\n",
              "      <td>NaN</td>\n",
              "      <td>NaN</td>\n",
              "      <td>NaN</td>\n",
              "      <td>NaN</td>\n",
              "      <td>NaN</td>\n",
              "      <td>NaN</td>\n",
              "      <td>NaN</td>\n",
              "      <td>NaN</td>\n",
              "      <td>NaN</td>\n",
              "    </tr>\n",
              "  </tbody>\n",
              "</table>\n",
              "</div>"
            ],
            "text/plain": [
              "                      days  Distance  ...  Avg. Speed  Avg. Win Speed\n",
              "index                                 ...                            \n",
              "2018-01-16 00:38:00  6.277   10585.0  ...    8.853191             6.2\n",
              "2018-02-11 18:05:00  2.416      82.0  ...    2.519622             1.4\n",
              "2018-04-02 22:16:00  1.977      40.0  ...    4.046927             2.3\n",
              "2018-04-21 22:13:00  3.540      70.0  ...    9.445705             4.8\n",
              "2018-10-11 23:44:00  6.233    3672.0  ...    6.020055             3.3\n",
              "2018-10-26 16:54:00  4.268    9359.0  ...    6.068952             4.6\n",
              "2018-11-29 20:28:00    NaN       NaN  ...         NaN             NaN\n",
              "\n",
              "[7 rows x 10 columns]"
            ]
          },
          "metadata": {},
          "execution_count": 200
        }
      ]
    }
  ]
}
