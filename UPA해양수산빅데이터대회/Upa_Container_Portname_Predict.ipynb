{
  "nbformat": 4,
  "nbformat_minor": 0,
  "metadata": {
    "colab": {
      "name": "upa_C-001_portname",
      "provenance": [],
      "collapsed_sections": []
    },
    "kernelspec": {
      "name": "python3",
      "display_name": "Python 3"
    },
    "language_info": {
      "name": "python"
    }
  },
  "cells": [
    {
      "cell_type": "code",
      "metadata": {
        "id": "oEb0Qn4cmv2V"
      },
      "source": [
        "import pandas as pd\n",
        "import numpy as np\n",
        "from math import radians, cos, sin, asin, sqrt\n",
        "\n",
        "import matplotlib.pyplot as plt\n",
        "import seaborn as sns\n",
        "\n",
        "from datetime import datetime\n",
        "from datetime import timedelta\n",
        "\n",
        "from sklearn.preprocessing import MinMaxScaler\n",
        "from sklearn.preprocessing import LabelEncoder\n",
        "from sklearn.model_selection import train_test_split\n",
        "from sklearn.model_selection import KFold\n",
        "from sklearn.model_selection import cross_val_score\n",
        "from sklearn.model_selection import GridSearchCV\n",
        "\n",
        "from sklearn.cluster import KMeans\n",
        "from sklearn.ensemble import RandomForestClassifier\n",
        "from sklearn.ensemble import RandomForestRegressor\n",
        "from sklearn.ensemble import RandomForestClassifier\n",
        "from sklearn.linear_model import LinearRegression\n",
        "from sklearn.cluster import KMeans\n",
        "from sklearn.tree import DecisionTreeClassifier\n",
        "\n",
        "from sklearn.metrics import accuracy_score\n",
        "from sklearn.metrics import f1_score\n",
        "from sklearn.metrics import mean_squared_error"
      ],
      "execution_count": 27,
      "outputs": []
    },
    {
      "cell_type": "code",
      "metadata": {
        "id": "3NdsL8p3SegL"
      },
      "source": [
        "route = pd.read_csv(\"/content/drive/MyDrive/Dataset/upa/preprocess/C-001_route2.csv\",index_col=0,parse_dates=[\"Date from\",\"Date to\"])\n",
        "env = pd.read_csv(\"/content/drive/MyDrive/Dataset/upa/C-001_env.csv\",parse_dates=[\"Date\"])\n",
        "route = route.iloc[:159,:]\n",
        "env.drop(\"No.\",axis=1,inplace=True)\n",
        "env.set_index(\"Date\",inplace=True)"
      ],
      "execution_count": 28,
      "outputs": []
    },
    {
      "cell_type": "code",
      "metadata": {
        "colab": {
          "base_uri": "https://localhost:8080/",
          "height": 323
        },
        "id": "J2DzIhjUSoKt",
        "outputId": "2d8b145d-6192-43cd-86d2-0f5cfd46c916"
      },
      "source": [
        "route.head()"
      ],
      "execution_count": 29,
      "outputs": [
        {
          "output_type": "execute_result",
          "data": {
            "text/html": [
              "<div>\n",
              "<style scoped>\n",
              "    .dataframe tbody tr th:only-of-type {\n",
              "        vertical-align: middle;\n",
              "    }\n",
              "\n",
              "    .dataframe tbody tr th {\n",
              "        vertical-align: top;\n",
              "    }\n",
              "\n",
              "    .dataframe thead th {\n",
              "        text-align: right;\n",
              "    }\n",
              "</style>\n",
              "<table border=\"1\" class=\"dataframe\">\n",
              "  <thead>\n",
              "    <tr style=\"text-align: right;\">\n",
              "      <th></th>\n",
              "      <th>Date from</th>\n",
              "      <th>Date to</th>\n",
              "      <th>days</th>\n",
              "      <th>Port from</th>\n",
              "      <th>Port to</th>\n",
              "      <th>Distance</th>\n",
              "      <th>T from</th>\n",
              "      <th>T to</th>\n",
              "      <th>Loaing Status</th>\n",
              "      <th>Mega-Ton-Mile</th>\n",
              "      <th>Cargo Carried</th>\n",
              "      <th>DFOC</th>\n",
              "      <th>Wave (per Distance)</th>\n",
              "      <th>Acc. Fatigue Inex</th>\n",
              "      <th>Wind (per Distance)</th>\n",
              "      <th>Avg. Wave Height</th>\n",
              "      <th>Avg. Speed</th>\n",
              "      <th>Avg. Win Speed</th>\n",
              "    </tr>\n",
              "  </thead>\n",
              "  <tbody>\n",
              "    <tr>\n",
              "      <th>0</th>\n",
              "      <td>2018-01-01 21:30:00</td>\n",
              "      <td>2018-01-03 10:19:00</td>\n",
              "      <td>1.5</td>\n",
              "      <td>KR0016</td>\n",
              "      <td>unkown</td>\n",
              "      <td>170</td>\n",
              "      <td>13.0</td>\n",
              "      <td>13.0</td>\n",
              "      <td>NaN</td>\n",
              "      <td>0.000</td>\n",
              "      <td>0.0</td>\n",
              "      <td>0.0</td>\n",
              "      <td>1.9</td>\n",
              "      <td>41.3</td>\n",
              "      <td>5.9</td>\n",
              "      <td>2.1</td>\n",
              "      <td>14.5</td>\n",
              "      <td>5.1</td>\n",
              "    </tr>\n",
              "    <tr>\n",
              "      <th>1</th>\n",
              "      <td>2018-01-03 10:19:00</td>\n",
              "      <td>2018-01-05 11:15:00</td>\n",
              "      <td>2.0</td>\n",
              "      <td>unkown</td>\n",
              "      <td>CN0603</td>\n",
              "      <td>782</td>\n",
              "      <td>13.0</td>\n",
              "      <td>12.0</td>\n",
              "      <td>NaN</td>\n",
              "      <td>0.000</td>\n",
              "      <td>0.0</td>\n",
              "      <td>0.0</td>\n",
              "      <td>1.5</td>\n",
              "      <td>30.9</td>\n",
              "      <td>3.6</td>\n",
              "      <td>1.5</td>\n",
              "      <td>5.0</td>\n",
              "      <td>3.6</td>\n",
              "    </tr>\n",
              "    <tr>\n",
              "      <th>2</th>\n",
              "      <td>2018-01-05 11:15:00</td>\n",
              "      <td>2018-01-06 15:34:00</td>\n",
              "      <td>1.2</td>\n",
              "      <td>CN0603</td>\n",
              "      <td>KR0080</td>\n",
              "      <td>1380</td>\n",
              "      <td>12.0</td>\n",
              "      <td>16.0</td>\n",
              "      <td>NaN</td>\n",
              "      <td>656.393</td>\n",
              "      <td>71570.0</td>\n",
              "      <td>0.0</td>\n",
              "      <td>1.4</td>\n",
              "      <td>19.5</td>\n",
              "      <td>1.9</td>\n",
              "      <td>1.5</td>\n",
              "      <td>10.5</td>\n",
              "      <td>4.6</td>\n",
              "    </tr>\n",
              "    <tr>\n",
              "      <th>3</th>\n",
              "      <td>2018-01-06 15:34:00</td>\n",
              "      <td>2018-01-09 04:43:00</td>\n",
              "      <td>2.5</td>\n",
              "      <td>KR0080</td>\n",
              "      <td>CN0200</td>\n",
              "      <td>1048</td>\n",
              "      <td>16.0</td>\n",
              "      <td>12.0</td>\n",
              "      <td>NaN</td>\n",
              "      <td>0.000</td>\n",
              "      <td>0.0</td>\n",
              "      <td>0.0</td>\n",
              "      <td>2.0</td>\n",
              "      <td>98.3</td>\n",
              "      <td>7.3</td>\n",
              "      <td>2.1</td>\n",
              "      <td>2.7</td>\n",
              "      <td>6.4</td>\n",
              "    </tr>\n",
              "    <tr>\n",
              "      <th>4</th>\n",
              "      <td>2018-01-09 04:43:00</td>\n",
              "      <td>2018-01-10 16:55:00</td>\n",
              "      <td>1.5</td>\n",
              "      <td>CN0200</td>\n",
              "      <td>CN0565</td>\n",
              "      <td>976</td>\n",
              "      <td>12.0</td>\n",
              "      <td>12.0</td>\n",
              "      <td>NaN</td>\n",
              "      <td>0.000</td>\n",
              "      <td>0.0</td>\n",
              "      <td>0.0</td>\n",
              "      <td>2.2</td>\n",
              "      <td>69.8</td>\n",
              "      <td>3.8</td>\n",
              "      <td>2.1</td>\n",
              "      <td>18.0</td>\n",
              "      <td>3.7</td>\n",
              "    </tr>\n",
              "  </tbody>\n",
              "</table>\n",
              "</div>"
            ],
            "text/plain": [
              "            Date from             Date to  ...  Avg. Speed Avg. Win Speed\n",
              "0 2018-01-01 21:30:00 2018-01-03 10:19:00  ...        14.5            5.1\n",
              "1 2018-01-03 10:19:00 2018-01-05 11:15:00  ...         5.0            3.6\n",
              "2 2018-01-05 11:15:00 2018-01-06 15:34:00  ...        10.5            4.6\n",
              "3 2018-01-06 15:34:00 2018-01-09 04:43:00  ...         2.7            6.4\n",
              "4 2018-01-09 04:43:00 2018-01-10 16:55:00  ...        18.0            3.7\n",
              "\n",
              "[5 rows x 18 columns]"
            ]
          },
          "metadata": {},
          "execution_count": 29
        }
      ]
    },
    {
      "cell_type": "code",
      "metadata": {
        "id": "soc6xK4_Syz9"
      },
      "source": [
        "date = env.index.to_list()\n",
        "result_list = []\n",
        "\n",
        "for i in date:\n",
        "\n",
        "  try:\n",
        "\n",
        "    df = route[(route[\"Date from\"] <= i) & (route[\"Date to\"] >= i)]\n",
        "    df = df.iloc[0,:].values\n",
        "    result_list.append(df)\n",
        "\n",
        "  except:\n",
        "\n",
        "    empty_list = np.empty((1,15))\n",
        "    empty_list[:] = np.nan\n",
        "    result_list.append(empty_list[0].tolist())\n",
        "\n",
        "df = pd.DataFrame(result_list,columns=route.columns,index=env.index)"
      ],
      "execution_count": 30,
      "outputs": []
    },
    {
      "cell_type": "code",
      "metadata": {
        "colab": {
          "base_uri": "https://localhost:8080/",
          "height": 654
        },
        "id": "7Wct1EHQ4PHB",
        "outputId": "6f1beeaa-f003-478e-e067-b15cee2ffbbd"
      },
      "source": [
        "df"
      ],
      "execution_count": 31,
      "outputs": [
        {
          "output_type": "execute_result",
          "data": {
            "text/html": [
              "<div>\n",
              "<style scoped>\n",
              "    .dataframe tbody tr th:only-of-type {\n",
              "        vertical-align: middle;\n",
              "    }\n",
              "\n",
              "    .dataframe tbody tr th {\n",
              "        vertical-align: top;\n",
              "    }\n",
              "\n",
              "    .dataframe thead th {\n",
              "        text-align: right;\n",
              "    }\n",
              "</style>\n",
              "<table border=\"1\" class=\"dataframe\">\n",
              "  <thead>\n",
              "    <tr style=\"text-align: right;\">\n",
              "      <th></th>\n",
              "      <th>Date from</th>\n",
              "      <th>Date to</th>\n",
              "      <th>days</th>\n",
              "      <th>Port from</th>\n",
              "      <th>Port to</th>\n",
              "      <th>Distance</th>\n",
              "      <th>T from</th>\n",
              "      <th>T to</th>\n",
              "      <th>Loaing Status</th>\n",
              "      <th>Mega-Ton-Mile</th>\n",
              "      <th>Cargo Carried</th>\n",
              "      <th>DFOC</th>\n",
              "      <th>Wave (per Distance)</th>\n",
              "      <th>Acc. Fatigue Inex</th>\n",
              "      <th>Wind (per Distance)</th>\n",
              "      <th>Avg. Wave Height</th>\n",
              "      <th>Avg. Speed</th>\n",
              "      <th>Avg. Win Speed</th>\n",
              "    </tr>\n",
              "    <tr>\n",
              "      <th>Date</th>\n",
              "      <th></th>\n",
              "      <th></th>\n",
              "      <th></th>\n",
              "      <th></th>\n",
              "      <th></th>\n",
              "      <th></th>\n",
              "      <th></th>\n",
              "      <th></th>\n",
              "      <th></th>\n",
              "      <th></th>\n",
              "      <th></th>\n",
              "      <th></th>\n",
              "      <th></th>\n",
              "      <th></th>\n",
              "      <th></th>\n",
              "      <th></th>\n",
              "      <th></th>\n",
              "      <th></th>\n",
              "    </tr>\n",
              "  </thead>\n",
              "  <tbody>\n",
              "    <tr>\n",
              "      <th>2018-01-01 06:00:00</th>\n",
              "      <td>NaT</td>\n",
              "      <td>NaT</td>\n",
              "      <td>NaN</td>\n",
              "      <td>NaN</td>\n",
              "      <td>NaN</td>\n",
              "      <td>NaN</td>\n",
              "      <td>NaN</td>\n",
              "      <td>NaN</td>\n",
              "      <td>NaN</td>\n",
              "      <td>NaN</td>\n",
              "      <td>NaN</td>\n",
              "      <td>NaN</td>\n",
              "      <td>NaN</td>\n",
              "      <td>NaN</td>\n",
              "      <td>NaN</td>\n",
              "      <td>NaN</td>\n",
              "      <td>NaN</td>\n",
              "      <td>NaN</td>\n",
              "    </tr>\n",
              "    <tr>\n",
              "      <th>2018-01-01 12:00:00</th>\n",
              "      <td>NaT</td>\n",
              "      <td>NaT</td>\n",
              "      <td>NaN</td>\n",
              "      <td>NaN</td>\n",
              "      <td>NaN</td>\n",
              "      <td>NaN</td>\n",
              "      <td>NaN</td>\n",
              "      <td>NaN</td>\n",
              "      <td>NaN</td>\n",
              "      <td>NaN</td>\n",
              "      <td>NaN</td>\n",
              "      <td>NaN</td>\n",
              "      <td>NaN</td>\n",
              "      <td>NaN</td>\n",
              "      <td>NaN</td>\n",
              "      <td>NaN</td>\n",
              "      <td>NaN</td>\n",
              "      <td>NaN</td>\n",
              "    </tr>\n",
              "    <tr>\n",
              "      <th>2018-01-01 18:00:00</th>\n",
              "      <td>NaT</td>\n",
              "      <td>NaT</td>\n",
              "      <td>NaN</td>\n",
              "      <td>NaN</td>\n",
              "      <td>NaN</td>\n",
              "      <td>NaN</td>\n",
              "      <td>NaN</td>\n",
              "      <td>NaN</td>\n",
              "      <td>NaN</td>\n",
              "      <td>NaN</td>\n",
              "      <td>NaN</td>\n",
              "      <td>NaN</td>\n",
              "      <td>NaN</td>\n",
              "      <td>NaN</td>\n",
              "      <td>NaN</td>\n",
              "      <td>NaN</td>\n",
              "      <td>NaN</td>\n",
              "      <td>NaN</td>\n",
              "    </tr>\n",
              "    <tr>\n",
              "      <th>2018-01-02 00:00:00</th>\n",
              "      <td>2018-01-01 21:30:00</td>\n",
              "      <td>2018-01-03 10:19:00</td>\n",
              "      <td>1.5</td>\n",
              "      <td>KR0016</td>\n",
              "      <td>unkown</td>\n",
              "      <td>170.0</td>\n",
              "      <td>13.0</td>\n",
              "      <td>13.0</td>\n",
              "      <td>NaN</td>\n",
              "      <td>0.0</td>\n",
              "      <td>0.0</td>\n",
              "      <td>0.0</td>\n",
              "      <td>1.9</td>\n",
              "      <td>41.3</td>\n",
              "      <td>5.9</td>\n",
              "      <td>2.1</td>\n",
              "      <td>14.5</td>\n",
              "      <td>5.1</td>\n",
              "    </tr>\n",
              "    <tr>\n",
              "      <th>2018-01-03 06:00:00</th>\n",
              "      <td>2018-01-01 21:30:00</td>\n",
              "      <td>2018-01-03 10:19:00</td>\n",
              "      <td>1.5</td>\n",
              "      <td>KR0016</td>\n",
              "      <td>unkown</td>\n",
              "      <td>170.0</td>\n",
              "      <td>13.0</td>\n",
              "      <td>13.0</td>\n",
              "      <td>NaN</td>\n",
              "      <td>0.0</td>\n",
              "      <td>0.0</td>\n",
              "      <td>0.0</td>\n",
              "      <td>1.9</td>\n",
              "      <td>41.3</td>\n",
              "      <td>5.9</td>\n",
              "      <td>2.1</td>\n",
              "      <td>14.5</td>\n",
              "      <td>5.1</td>\n",
              "    </tr>\n",
              "    <tr>\n",
              "      <th>...</th>\n",
              "      <td>...</td>\n",
              "      <td>...</td>\n",
              "      <td>...</td>\n",
              "      <td>...</td>\n",
              "      <td>...</td>\n",
              "      <td>...</td>\n",
              "      <td>...</td>\n",
              "      <td>...</td>\n",
              "      <td>...</td>\n",
              "      <td>...</td>\n",
              "      <td>...</td>\n",
              "      <td>...</td>\n",
              "      <td>...</td>\n",
              "      <td>...</td>\n",
              "      <td>...</td>\n",
              "      <td>...</td>\n",
              "      <td>...</td>\n",
              "      <td>...</td>\n",
              "    </tr>\n",
              "    <tr>\n",
              "      <th>2018-12-27 18:00:00</th>\n",
              "      <td>2018-12-27 02:22:00</td>\n",
              "      <td>2018-12-29 02:14:00</td>\n",
              "      <td>2.0</td>\n",
              "      <td>RP4610</td>\n",
              "      <td>I0238</td>\n",
              "      <td>1623.0</td>\n",
              "      <td>10.0</td>\n",
              "      <td>10.0</td>\n",
              "      <td>NaN</td>\n",
              "      <td>0.0</td>\n",
              "      <td>0.0</td>\n",
              "      <td>0.0</td>\n",
              "      <td>1.5</td>\n",
              "      <td>76.9</td>\n",
              "      <td>5.2</td>\n",
              "      <td>1.5</td>\n",
              "      <td>18.2</td>\n",
              "      <td>4.6</td>\n",
              "    </tr>\n",
              "    <tr>\n",
              "      <th>2018-12-28 00:00:00</th>\n",
              "      <td>2018-12-27 02:22:00</td>\n",
              "      <td>2018-12-29 02:14:00</td>\n",
              "      <td>2.0</td>\n",
              "      <td>RP4610</td>\n",
              "      <td>I0238</td>\n",
              "      <td>1623.0</td>\n",
              "      <td>10.0</td>\n",
              "      <td>10.0</td>\n",
              "      <td>NaN</td>\n",
              "      <td>0.0</td>\n",
              "      <td>0.0</td>\n",
              "      <td>0.0</td>\n",
              "      <td>1.5</td>\n",
              "      <td>76.9</td>\n",
              "      <td>5.2</td>\n",
              "      <td>1.5</td>\n",
              "      <td>18.2</td>\n",
              "      <td>4.6</td>\n",
              "    </tr>\n",
              "    <tr>\n",
              "      <th>2018-12-28 06:00:00</th>\n",
              "      <td>2018-12-27 02:22:00</td>\n",
              "      <td>2018-12-29 02:14:00</td>\n",
              "      <td>2.0</td>\n",
              "      <td>RP4610</td>\n",
              "      <td>I0238</td>\n",
              "      <td>1623.0</td>\n",
              "      <td>10.0</td>\n",
              "      <td>10.0</td>\n",
              "      <td>NaN</td>\n",
              "      <td>0.0</td>\n",
              "      <td>0.0</td>\n",
              "      <td>0.0</td>\n",
              "      <td>1.5</td>\n",
              "      <td>76.9</td>\n",
              "      <td>5.2</td>\n",
              "      <td>1.5</td>\n",
              "      <td>18.2</td>\n",
              "      <td>4.6</td>\n",
              "    </tr>\n",
              "    <tr>\n",
              "      <th>2018-12-28 12:00:00</th>\n",
              "      <td>2018-12-27 02:22:00</td>\n",
              "      <td>2018-12-29 02:14:00</td>\n",
              "      <td>2.0</td>\n",
              "      <td>RP4610</td>\n",
              "      <td>I0238</td>\n",
              "      <td>1623.0</td>\n",
              "      <td>10.0</td>\n",
              "      <td>10.0</td>\n",
              "      <td>NaN</td>\n",
              "      <td>0.0</td>\n",
              "      <td>0.0</td>\n",
              "      <td>0.0</td>\n",
              "      <td>1.5</td>\n",
              "      <td>76.9</td>\n",
              "      <td>5.2</td>\n",
              "      <td>1.5</td>\n",
              "      <td>18.2</td>\n",
              "      <td>4.6</td>\n",
              "    </tr>\n",
              "    <tr>\n",
              "      <th>2018-12-28 18:00:00</th>\n",
              "      <td>2018-12-27 02:22:00</td>\n",
              "      <td>2018-12-29 02:14:00</td>\n",
              "      <td>2.0</td>\n",
              "      <td>RP4610</td>\n",
              "      <td>I0238</td>\n",
              "      <td>1623.0</td>\n",
              "      <td>10.0</td>\n",
              "      <td>10.0</td>\n",
              "      <td>NaN</td>\n",
              "      <td>0.0</td>\n",
              "      <td>0.0</td>\n",
              "      <td>0.0</td>\n",
              "      <td>1.5</td>\n",
              "      <td>76.9</td>\n",
              "      <td>5.2</td>\n",
              "      <td>1.5</td>\n",
              "      <td>18.2</td>\n",
              "      <td>4.6</td>\n",
              "    </tr>\n",
              "  </tbody>\n",
              "</table>\n",
              "<p>1267 rows × 18 columns</p>\n",
              "</div>"
            ],
            "text/plain": [
              "                              Date from  ... Avg. Win Speed\n",
              "Date                                     ...               \n",
              "2018-01-01 06:00:00                 NaT  ...            NaN\n",
              "2018-01-01 12:00:00                 NaT  ...            NaN\n",
              "2018-01-01 18:00:00                 NaT  ...            NaN\n",
              "2018-01-02 00:00:00 2018-01-01 21:30:00  ...            5.1\n",
              "2018-01-03 06:00:00 2018-01-01 21:30:00  ...            5.1\n",
              "...                                 ...  ...            ...\n",
              "2018-12-27 18:00:00 2018-12-27 02:22:00  ...            4.6\n",
              "2018-12-28 00:00:00 2018-12-27 02:22:00  ...            4.6\n",
              "2018-12-28 06:00:00 2018-12-27 02:22:00  ...            4.6\n",
              "2018-12-28 12:00:00 2018-12-27 02:22:00  ...            4.6\n",
              "2018-12-28 18:00:00 2018-12-27 02:22:00  ...            4.6\n",
              "\n",
              "[1267 rows x 18 columns]"
            ]
          },
          "metadata": {},
          "execution_count": 31
        }
      ]
    },
    {
      "cell_type": "code",
      "metadata": {
        "id": "aVIOa_p-X8Nf"
      },
      "source": [
        "env = pd.concat([env,df],axis=1)"
      ],
      "execution_count": 32,
      "outputs": []
    },
    {
      "cell_type": "code",
      "metadata": {
        "colab": {
          "base_uri": "https://localhost:8080/"
        },
        "id": "HUTmxV1VoT99",
        "outputId": "600d3cd1-5ec0-4516-a816-c2fdc9fe8df6"
      },
      "source": [
        "env.isnull().sum()"
      ],
      "execution_count": 34,
      "outputs": [
        {
          "output_type": "execute_result",
          "data": {
            "text/plain": [
              "Vessel Latitude           0\n",
              "Vessel Longitude          0\n",
              "Vessel Speed (Kts)        0\n",
              "Vessel Heading            0\n",
              "Wave Height (m)           0\n",
              "Wave Period (s)           0\n",
              "Wind U (m/s)              0\n",
              "Wind V (m/s)              0\n",
              "Date from               156\n",
              "Date to                 156\n",
              "days                    156\n",
              "Port from               156\n",
              "Port to                 156\n",
              "Distance                156\n",
              "T from                  156\n",
              "T to                    156\n",
              "Loaing Status          1267\n",
              "Mega-Ton-Mile           156\n",
              "Cargo Carried           156\n",
              "DFOC                    156\n",
              "Wave (per Distance)     156\n",
              "Acc. Fatigue Inex       156\n",
              "Wind (per Distance)     156\n",
              "Avg. Wave Height        156\n",
              "Avg. Speed              156\n",
              "Avg. Win Speed          156\n",
              "dtype: int64"
            ]
          },
          "metadata": {},
          "execution_count": 34
        }
      ]
    },
    {
      "cell_type": "code",
      "metadata": {
        "id": "Fnnq8OzT9JQy"
      },
      "source": [
        "env.drop(\"Loaing Status\",axis=1,inplace=True)"
      ],
      "execution_count": 36,
      "outputs": []
    },
    {
      "cell_type": "markdown",
      "metadata": {
        "id": "1Rfx7dMKwe6C"
      },
      "source": [
        "# Port from"
      ]
    },
    {
      "cell_type": "code",
      "metadata": {
        "id": "mZAxojj2ozAz",
        "colab": {
          "base_uri": "https://localhost:8080/"
        },
        "outputId": "cd74235b-f955-4274-b403-4e4142612f12"
      },
      "source": [
        "train_df = env[env[\"Port from\"] != \"unkown\"]\n",
        "val_df = env[env[\"Port from\"] == \"unkown\"]\n",
        "\n",
        "train_df.dropna(inplace=True)\n",
        "val_df.dropna(inplace=True)\n",
        "\n",
        "date_from = val_df[\"Date from\"].to_frame(name=\"Date from\")\n",
        "date_to = val_df[\"Date to\"].to_frame(name=\"Date to\")"
      ],
      "execution_count": 37,
      "outputs": [
        {
          "output_type": "stream",
          "text": [
            "/usr/local/lib/python3.7/dist-packages/ipykernel_launcher.py:4: SettingWithCopyWarning: \n",
            "A value is trying to be set on a copy of a slice from a DataFrame\n",
            "\n",
            "See the caveats in the documentation: https://pandas.pydata.org/pandas-docs/stable/user_guide/indexing.html#returning-a-view-versus-a-copy\n",
            "  after removing the cwd from sys.path.\n",
            "/usr/local/lib/python3.7/dist-packages/ipykernel_launcher.py:5: SettingWithCopyWarning: \n",
            "A value is trying to be set on a copy of a slice from a DataFrame\n",
            "\n",
            "See the caveats in the documentation: https://pandas.pydata.org/pandas-docs/stable/user_guide/indexing.html#returning-a-view-versus-a-copy\n",
            "  \"\"\"\n"
          ],
          "name": "stderr"
        }
      ]
    },
    {
      "cell_type": "code",
      "metadata": {
        "colab": {
          "base_uri": "https://localhost:8080/"
        },
        "id": "ACdUYyVJuDCA",
        "outputId": "5ff540cc-f0bc-4418-afd8-8a27191d2f70"
      },
      "source": [
        "train_df.drop([\"Port to\",\"Date from\",\"Date to\"],axis=1,inplace=True)\n",
        "val_df.drop([\"Port to\",\"Date from\",\"Date to\"],axis=1,inplace=True)"
      ],
      "execution_count": 38,
      "outputs": [
        {
          "output_type": "stream",
          "text": [
            "/usr/local/lib/python3.7/dist-packages/pandas/core/frame.py:4174: SettingWithCopyWarning: \n",
            "A value is trying to be set on a copy of a slice from a DataFrame\n",
            "\n",
            "See the caveats in the documentation: https://pandas.pydata.org/pandas-docs/stable/user_guide/indexing.html#returning-a-view-versus-a-copy\n",
            "  errors=errors,\n"
          ],
          "name": "stderr"
        }
      ]
    },
    {
      "cell_type": "code",
      "metadata": {
        "id": "uZl96HTwozH7"
      },
      "source": [
        "X_train = train_df.drop(\"Port from\",axis=1)\n",
        "y_train = train_df.loc[:,\"Port from\"].to_frame(name=\"Port from\")\n",
        "X_val = val_df.drop(\"Port from\",axis=1)\n",
        "y_val = val_df.loc[:,\"Port from\"].to_frame(name=\"Port from\")"
      ],
      "execution_count": 39,
      "outputs": []
    },
    {
      "cell_type": "code",
      "metadata": {
        "id": "zvyhVCHOqfUP"
      },
      "source": [
        "scaler = MinMaxScaler()\n",
        "encoder = LabelEncoder()"
      ],
      "execution_count": 18,
      "outputs": []
    },
    {
      "cell_type": "code",
      "metadata": {
        "colab": {
          "base_uri": "https://localhost:8080/"
        },
        "id": "t-KU8YWurVOA",
        "outputId": "96a4ca2c-51de-4988-9331-a067bb287739"
      },
      "source": [
        "X_train = pd.DataFrame(scaler.fit_transform(X_train),index=X_train.index,columns=X_train.columns)\n",
        "y_train = pd.DataFrame(encoder.fit_transform(y_train),index=y_train.index,columns=y_train.columns)\n",
        "X_val = pd.DataFrame(scaler.fit_transform(X_val),index=X_val.index,columns=X_val.columns)"
      ],
      "execution_count": 40,
      "outputs": [
        {
          "output_type": "stream",
          "text": [
            "/usr/local/lib/python3.7/dist-packages/sklearn/preprocessing/_label.py:251: DataConversionWarning: A column-vector y was passed when a 1d array was expected. Please change the shape of y to (n_samples, ), for example using ravel().\n",
            "  y = column_or_1d(y, warn=True)\n"
          ],
          "name": "stderr"
        }
      ]
    },
    {
      "cell_type": "code",
      "metadata": {
        "id": "0Cs5gXKuroY2"
      },
      "source": [
        " X_train, X_test, y_train, y_test = train_test_split(X_train,y_train,test_size=0.5)"
      ],
      "execution_count": 41,
      "outputs": []
    },
    {
      "cell_type": "code",
      "metadata": {
        "colab": {
          "base_uri": "https://localhost:8080/"
        },
        "id": "qXyofUx3rov7",
        "outputId": "fe4a8db7-efed-4561-935c-def798918e89"
      },
      "source": [
        "RFC = RandomForestClassifier()\n",
        "\n",
        "RFC.fit(X_train,y_train)\n",
        "pred = RFC.predict(X_test)\n",
        "accuracy = accuracy_score(y_test,pred)\n",
        "f1 = f1_score(y_test,pred,average=\"micro\")\n",
        "print(accuracy)\n",
        "print(f1)"
      ],
      "execution_count": 42,
      "outputs": [
        {
          "output_type": "stream",
          "text": [
            "/usr/local/lib/python3.7/dist-packages/ipykernel_launcher.py:3: DataConversionWarning: A column-vector y was passed when a 1d array was expected. Please change the shape of y to (n_samples,), for example using ravel().\n",
            "  This is separate from the ipykernel package so we can avoid doing imports until\n"
          ],
          "name": "stderr"
        },
        {
          "output_type": "stream",
          "text": [
            "0.986328125\n",
            "0.986328125\n"
          ],
          "name": "stdout"
        }
      ]
    },
    {
      "cell_type": "code",
      "metadata": {
        "id": "w2ntE7PwsdjV"
      },
      "source": [
        "val_pred = encoder.inverse_transform(RFC.predict(X_val))"
      ],
      "execution_count": 43,
      "outputs": []
    },
    {
      "cell_type": "code",
      "metadata": {
        "id": "ARFYxPwAswjQ"
      },
      "source": [
        "port_from_result = pd.DataFrame(val_pred,index=val_df.index,columns=[\"Port from\"])\n",
        "port_from_result = pd.concat([port_from_result,date_from,date_to],axis=1)"
      ],
      "execution_count": 44,
      "outputs": []
    },
    {
      "cell_type": "code",
      "metadata": {
        "colab": {
          "base_uri": "https://localhost:8080/",
          "height": 450
        },
        "id": "D1Tn8Cshs4_T",
        "outputId": "e2469e1e-8180-4b53-8e27-15580000829a"
      },
      "source": [
        "port_from_result"
      ],
      "execution_count": 45,
      "outputs": [
        {
          "output_type": "execute_result",
          "data": {
            "text/html": [
              "<div>\n",
              "<style scoped>\n",
              "    .dataframe tbody tr th:only-of-type {\n",
              "        vertical-align: middle;\n",
              "    }\n",
              "\n",
              "    .dataframe tbody tr th {\n",
              "        vertical-align: top;\n",
              "    }\n",
              "\n",
              "    .dataframe thead th {\n",
              "        text-align: right;\n",
              "    }\n",
              "</style>\n",
              "<table border=\"1\" class=\"dataframe\">\n",
              "  <thead>\n",
              "    <tr style=\"text-align: right;\">\n",
              "      <th></th>\n",
              "      <th>Port from</th>\n",
              "      <th>Date from</th>\n",
              "      <th>Date to</th>\n",
              "    </tr>\n",
              "    <tr>\n",
              "      <th>Date</th>\n",
              "      <th></th>\n",
              "      <th></th>\n",
              "      <th></th>\n",
              "    </tr>\n",
              "  </thead>\n",
              "  <tbody>\n",
              "    <tr>\n",
              "      <th>2018-01-03 12:00:00</th>\n",
              "      <td>I0238</td>\n",
              "      <td>2018-01-03 10:19:00</td>\n",
              "      <td>2018-01-05 11:15:00</td>\n",
              "    </tr>\n",
              "    <tr>\n",
              "      <th>2018-01-04 00:00:00</th>\n",
              "      <td>I0238</td>\n",
              "      <td>2018-01-03 10:19:00</td>\n",
              "      <td>2018-01-05 11:15:00</td>\n",
              "    </tr>\n",
              "    <tr>\n",
              "      <th>2018-01-04 06:00:00</th>\n",
              "      <td>I0238</td>\n",
              "      <td>2018-01-03 10:19:00</td>\n",
              "      <td>2018-01-05 11:15:00</td>\n",
              "    </tr>\n",
              "    <tr>\n",
              "      <th>2018-01-04 12:00:00</th>\n",
              "      <td>I0238</td>\n",
              "      <td>2018-01-03 10:19:00</td>\n",
              "      <td>2018-01-05 11:15:00</td>\n",
              "    </tr>\n",
              "    <tr>\n",
              "      <th>2018-01-04 18:00:00</th>\n",
              "      <td>I0238</td>\n",
              "      <td>2018-01-03 10:19:00</td>\n",
              "      <td>2018-01-05 11:15:00</td>\n",
              "    </tr>\n",
              "    <tr>\n",
              "      <th>...</th>\n",
              "      <td>...</td>\n",
              "      <td>...</td>\n",
              "      <td>...</td>\n",
              "    </tr>\n",
              "    <tr>\n",
              "      <th>2018-12-18 12:00:00</th>\n",
              "      <td>I0238</td>\n",
              "      <td>2018-12-17 17:20:00</td>\n",
              "      <td>2018-12-19 23:54:00</td>\n",
              "    </tr>\n",
              "    <tr>\n",
              "      <th>2018-12-19 00:00:00</th>\n",
              "      <td>I0238</td>\n",
              "      <td>2018-12-17 17:20:00</td>\n",
              "      <td>2018-12-19 23:54:00</td>\n",
              "    </tr>\n",
              "    <tr>\n",
              "      <th>2018-12-19 06:00:00</th>\n",
              "      <td>I0238</td>\n",
              "      <td>2018-12-17 17:20:00</td>\n",
              "      <td>2018-12-19 23:54:00</td>\n",
              "    </tr>\n",
              "    <tr>\n",
              "      <th>2018-12-19 12:00:00</th>\n",
              "      <td>I0238</td>\n",
              "      <td>2018-12-17 17:20:00</td>\n",
              "      <td>2018-12-19 23:54:00</td>\n",
              "    </tr>\n",
              "    <tr>\n",
              "      <th>2018-12-19 18:00:00</th>\n",
              "      <td>I0238</td>\n",
              "      <td>2018-12-17 17:20:00</td>\n",
              "      <td>2018-12-19 23:54:00</td>\n",
              "    </tr>\n",
              "  </tbody>\n",
              "</table>\n",
              "<p>88 rows × 3 columns</p>\n",
              "</div>"
            ],
            "text/plain": [
              "                    Port from           Date from             Date to\n",
              "Date                                                                 \n",
              "2018-01-03 12:00:00     I0238 2018-01-03 10:19:00 2018-01-05 11:15:00\n",
              "2018-01-04 00:00:00     I0238 2018-01-03 10:19:00 2018-01-05 11:15:00\n",
              "2018-01-04 06:00:00     I0238 2018-01-03 10:19:00 2018-01-05 11:15:00\n",
              "2018-01-04 12:00:00     I0238 2018-01-03 10:19:00 2018-01-05 11:15:00\n",
              "2018-01-04 18:00:00     I0238 2018-01-03 10:19:00 2018-01-05 11:15:00\n",
              "...                       ...                 ...                 ...\n",
              "2018-12-18 12:00:00     I0238 2018-12-17 17:20:00 2018-12-19 23:54:00\n",
              "2018-12-19 00:00:00     I0238 2018-12-17 17:20:00 2018-12-19 23:54:00\n",
              "2018-12-19 06:00:00     I0238 2018-12-17 17:20:00 2018-12-19 23:54:00\n",
              "2018-12-19 12:00:00     I0238 2018-12-17 17:20:00 2018-12-19 23:54:00\n",
              "2018-12-19 18:00:00     I0238 2018-12-17 17:20:00 2018-12-19 23:54:00\n",
              "\n",
              "[88 rows x 3 columns]"
            ]
          },
          "metadata": {},
          "execution_count": 45
        }
      ]
    },
    {
      "cell_type": "code",
      "metadata": {
        "id": "1dcwJi_buzin"
      },
      "source": [
        "port_from_result.to_csv(\"/content/drive/MyDrive/Dataset/upa/result/port_from_result.csv\")"
      ],
      "execution_count": null,
      "outputs": []
    },
    {
      "cell_type": "markdown",
      "metadata": {
        "id": "2vbQ5offwnBx"
      },
      "source": [
        "# Port to"
      ]
    },
    {
      "cell_type": "code",
      "metadata": {
        "id": "La4MzEKuvoST",
        "colab": {
          "base_uri": "https://localhost:8080/"
        },
        "outputId": "8ec3e256-42f3-472d-bb3d-12479a5fd147"
      },
      "source": [
        "train_df = env[env[\"Port to\"] != \"unkown\"]\n",
        "val_df = env[env[\"Port to\"] == \"unkown\"]\n",
        "\n",
        "train_df.dropna(inplace=True)\n",
        "val_df.dropna(inplace=True)\n",
        "\n",
        "date_from = val_df[\"Date from\"].to_frame(name=\"Date from\")\n",
        "date_to = val_df[\"Date to\"].to_frame(name=\"Date to\")"
      ],
      "execution_count": 46,
      "outputs": [
        {
          "output_type": "stream",
          "text": [
            "/usr/local/lib/python3.7/dist-packages/ipykernel_launcher.py:4: SettingWithCopyWarning: \n",
            "A value is trying to be set on a copy of a slice from a DataFrame\n",
            "\n",
            "See the caveats in the documentation: https://pandas.pydata.org/pandas-docs/stable/user_guide/indexing.html#returning-a-view-versus-a-copy\n",
            "  after removing the cwd from sys.path.\n",
            "/usr/local/lib/python3.7/dist-packages/ipykernel_launcher.py:5: SettingWithCopyWarning: \n",
            "A value is trying to be set on a copy of a slice from a DataFrame\n",
            "\n",
            "See the caveats in the documentation: https://pandas.pydata.org/pandas-docs/stable/user_guide/indexing.html#returning-a-view-versus-a-copy\n",
            "  \"\"\"\n"
          ],
          "name": "stderr"
        }
      ]
    },
    {
      "cell_type": "code",
      "metadata": {
        "colab": {
          "base_uri": "https://localhost:8080/"
        },
        "id": "NQ9Ee3l1ws6A",
        "outputId": "2fec8312-8b83-498c-e574-6eeabe6a3067"
      },
      "source": [
        "train_df.drop([\"Port from\",\"Date from\",\"Date to\"],axis=1,inplace=True)\n",
        "val_df.drop([\"Port from\",\"Date from\",\"Date to\"],axis=1,inplace=True)"
      ],
      "execution_count": 47,
      "outputs": [
        {
          "output_type": "stream",
          "text": [
            "/usr/local/lib/python3.7/dist-packages/pandas/core/frame.py:4174: SettingWithCopyWarning: \n",
            "A value is trying to be set on a copy of a slice from a DataFrame\n",
            "\n",
            "See the caveats in the documentation: https://pandas.pydata.org/pandas-docs/stable/user_guide/indexing.html#returning-a-view-versus-a-copy\n",
            "  errors=errors,\n"
          ],
          "name": "stderr"
        }
      ]
    },
    {
      "cell_type": "code",
      "metadata": {
        "colab": {
          "base_uri": "https://localhost:8080/",
          "height": 844
        },
        "id": "U0c6DL0_w0_a",
        "outputId": "f89de830-63e5-454b-c750-8ac9b25d9911"
      },
      "source": [
        "train_df"
      ],
      "execution_count": 49,
      "outputs": [
        {
          "output_type": "execute_result",
          "data": {
            "text/html": [
              "<div>\n",
              "<style scoped>\n",
              "    .dataframe tbody tr th:only-of-type {\n",
              "        vertical-align: middle;\n",
              "    }\n",
              "\n",
              "    .dataframe tbody tr th {\n",
              "        vertical-align: top;\n",
              "    }\n",
              "\n",
              "    .dataframe thead th {\n",
              "        text-align: right;\n",
              "    }\n",
              "</style>\n",
              "<table border=\"1\" class=\"dataframe\">\n",
              "  <thead>\n",
              "    <tr style=\"text-align: right;\">\n",
              "      <th></th>\n",
              "      <th>Vessel Latitude</th>\n",
              "      <th>Vessel Longitude</th>\n",
              "      <th>Vessel Speed (Kts)</th>\n",
              "      <th>Vessel Heading</th>\n",
              "      <th>Wave Height (m)</th>\n",
              "      <th>Wave Period (s)</th>\n",
              "      <th>Wind U (m/s)</th>\n",
              "      <th>Wind V (m/s)</th>\n",
              "      <th>days</th>\n",
              "      <th>Port to</th>\n",
              "      <th>Distance</th>\n",
              "      <th>T from</th>\n",
              "      <th>T to</th>\n",
              "      <th>Mega-Ton-Mile</th>\n",
              "      <th>Cargo Carried</th>\n",
              "      <th>DFOC</th>\n",
              "      <th>Wave (per Distance)</th>\n",
              "      <th>Acc. Fatigue Inex</th>\n",
              "      <th>Wind (per Distance)</th>\n",
              "      <th>Avg. Wave Height</th>\n",
              "      <th>Avg. Speed</th>\n",
              "      <th>Avg. Win Speed</th>\n",
              "    </tr>\n",
              "    <tr>\n",
              "      <th>Date</th>\n",
              "      <th></th>\n",
              "      <th></th>\n",
              "      <th></th>\n",
              "      <th></th>\n",
              "      <th></th>\n",
              "      <th></th>\n",
              "      <th></th>\n",
              "      <th></th>\n",
              "      <th></th>\n",
              "      <th></th>\n",
              "      <th></th>\n",
              "      <th></th>\n",
              "      <th></th>\n",
              "      <th></th>\n",
              "      <th></th>\n",
              "      <th></th>\n",
              "      <th></th>\n",
              "      <th></th>\n",
              "      <th></th>\n",
              "      <th></th>\n",
              "      <th></th>\n",
              "      <th></th>\n",
              "    </tr>\n",
              "  </thead>\n",
              "  <tbody>\n",
              "    <tr>\n",
              "      <th>2018-01-03 12:00:00</th>\n",
              "      <td>34.14310</td>\n",
              "      <td>127.9090</td>\n",
              "      <td>12.2117</td>\n",
              "      <td>182</td>\n",
              "      <td>1.72568</td>\n",
              "      <td>8.44688</td>\n",
              "      <td>-5.06831</td>\n",
              "      <td>-2.873990</td>\n",
              "      <td>2.0</td>\n",
              "      <td>CN0603</td>\n",
              "      <td>782.0</td>\n",
              "      <td>13.0</td>\n",
              "      <td>12.0</td>\n",
              "      <td>0.0</td>\n",
              "      <td>0.0</td>\n",
              "      <td>0.0</td>\n",
              "      <td>1.5</td>\n",
              "      <td>30.9</td>\n",
              "      <td>3.6</td>\n",
              "      <td>1.5</td>\n",
              "      <td>5.0</td>\n",
              "      <td>3.6</td>\n",
              "    </tr>\n",
              "    <tr>\n",
              "      <th>2018-01-04 00:00:00</th>\n",
              "      <td>31.20940</td>\n",
              "      <td>124.7170</td>\n",
              "      <td>10.4558</td>\n",
              "      <td>261</td>\n",
              "      <td>1.41658</td>\n",
              "      <td>8.31981</td>\n",
              "      <td>-4.03375</td>\n",
              "      <td>-2.668770</td>\n",
              "      <td>2.0</td>\n",
              "      <td>CN0603</td>\n",
              "      <td>782.0</td>\n",
              "      <td>13.0</td>\n",
              "      <td>12.0</td>\n",
              "      <td>0.0</td>\n",
              "      <td>0.0</td>\n",
              "      <td>0.0</td>\n",
              "      <td>1.5</td>\n",
              "      <td>30.9</td>\n",
              "      <td>3.6</td>\n",
              "      <td>1.5</td>\n",
              "      <td>5.0</td>\n",
              "      <td>3.6</td>\n",
              "    </tr>\n",
              "    <tr>\n",
              "      <th>2018-01-04 06:00:00</th>\n",
              "      <td>31.95590</td>\n",
              "      <td>125.5790</td>\n",
              "      <td>10.4558</td>\n",
              "      <td>261</td>\n",
              "      <td>1.34916</td>\n",
              "      <td>7.60229</td>\n",
              "      <td>-4.51793</td>\n",
              "      <td>-2.872190</td>\n",
              "      <td>2.0</td>\n",
              "      <td>CN0603</td>\n",
              "      <td>782.0</td>\n",
              "      <td>13.0</td>\n",
              "      <td>12.0</td>\n",
              "      <td>0.0</td>\n",
              "      <td>0.0</td>\n",
              "      <td>0.0</td>\n",
              "      <td>1.5</td>\n",
              "      <td>30.9</td>\n",
              "      <td>3.6</td>\n",
              "      <td>1.5</td>\n",
              "      <td>5.0</td>\n",
              "      <td>3.6</td>\n",
              "    </tr>\n",
              "    <tr>\n",
              "      <th>2018-01-04 12:00:00</th>\n",
              "      <td>32.70240</td>\n",
              "      <td>126.4400</td>\n",
              "      <td>10.4558</td>\n",
              "      <td>261</td>\n",
              "      <td>1.66967</td>\n",
              "      <td>7.58741</td>\n",
              "      <td>-4.06246</td>\n",
              "      <td>-0.836129</td>\n",
              "      <td>2.0</td>\n",
              "      <td>CN0603</td>\n",
              "      <td>782.0</td>\n",
              "      <td>13.0</td>\n",
              "      <td>12.0</td>\n",
              "      <td>0.0</td>\n",
              "      <td>0.0</td>\n",
              "      <td>0.0</td>\n",
              "      <td>1.5</td>\n",
              "      <td>30.9</td>\n",
              "      <td>3.6</td>\n",
              "      <td>1.5</td>\n",
              "      <td>5.0</td>\n",
              "      <td>3.6</td>\n",
              "    </tr>\n",
              "    <tr>\n",
              "      <th>2018-01-04 18:00:00</th>\n",
              "      <td>33.44890</td>\n",
              "      <td>127.3020</td>\n",
              "      <td>10.4558</td>\n",
              "      <td>261</td>\n",
              "      <td>1.97152</td>\n",
              "      <td>8.06035</td>\n",
              "      <td>-1.45173</td>\n",
              "      <td>-1.886560</td>\n",
              "      <td>2.0</td>\n",
              "      <td>CN0603</td>\n",
              "      <td>782.0</td>\n",
              "      <td>13.0</td>\n",
              "      <td>12.0</td>\n",
              "      <td>0.0</td>\n",
              "      <td>0.0</td>\n",
              "      <td>0.0</td>\n",
              "      <td>1.5</td>\n",
              "      <td>30.9</td>\n",
              "      <td>3.6</td>\n",
              "      <td>1.5</td>\n",
              "      <td>5.0</td>\n",
              "      <td>3.6</td>\n",
              "    </tr>\n",
              "    <tr>\n",
              "      <th>...</th>\n",
              "      <td>...</td>\n",
              "      <td>...</td>\n",
              "      <td>...</td>\n",
              "      <td>...</td>\n",
              "      <td>...</td>\n",
              "      <td>...</td>\n",
              "      <td>...</td>\n",
              "      <td>...</td>\n",
              "      <td>...</td>\n",
              "      <td>...</td>\n",
              "      <td>...</td>\n",
              "      <td>...</td>\n",
              "      <td>...</td>\n",
              "      <td>...</td>\n",
              "      <td>...</td>\n",
              "      <td>...</td>\n",
              "      <td>...</td>\n",
              "      <td>...</td>\n",
              "      <td>...</td>\n",
              "      <td>...</td>\n",
              "      <td>...</td>\n",
              "      <td>...</td>\n",
              "    </tr>\n",
              "    <tr>\n",
              "      <th>2018-12-27 18:00:00</th>\n",
              "      <td>5.66443</td>\n",
              "      <td>85.1721</td>\n",
              "      <td>18.2422</td>\n",
              "      <td>63</td>\n",
              "      <td>1.46807</td>\n",
              "      <td>9.59429</td>\n",
              "      <td>-13.16300</td>\n",
              "      <td>8.434380</td>\n",
              "      <td>2.0</td>\n",
              "      <td>I0238</td>\n",
              "      <td>1623.0</td>\n",
              "      <td>10.0</td>\n",
              "      <td>10.0</td>\n",
              "      <td>0.0</td>\n",
              "      <td>0.0</td>\n",
              "      <td>0.0</td>\n",
              "      <td>1.5</td>\n",
              "      <td>76.9</td>\n",
              "      <td>5.2</td>\n",
              "      <td>1.5</td>\n",
              "      <td>18.2</td>\n",
              "      <td>4.6</td>\n",
              "    </tr>\n",
              "    <tr>\n",
              "      <th>2018-12-28 00:00:00</th>\n",
              "      <td>5.71861</td>\n",
              "      <td>86.5901</td>\n",
              "      <td>18.4793</td>\n",
              "      <td>63</td>\n",
              "      <td>1.45147</td>\n",
              "      <td>9.47140</td>\n",
              "      <td>-18.34170</td>\n",
              "      <td>8.811440</td>\n",
              "      <td>2.0</td>\n",
              "      <td>I0238</td>\n",
              "      <td>1623.0</td>\n",
              "      <td>10.0</td>\n",
              "      <td>10.0</td>\n",
              "      <td>0.0</td>\n",
              "      <td>0.0</td>\n",
              "      <td>0.0</td>\n",
              "      <td>1.5</td>\n",
              "      <td>76.9</td>\n",
              "      <td>5.2</td>\n",
              "      <td>1.5</td>\n",
              "      <td>18.2</td>\n",
              "      <td>4.6</td>\n",
              "    </tr>\n",
              "    <tr>\n",
              "      <th>2018-12-28 06:00:00</th>\n",
              "      <td>5.85843</td>\n",
              "      <td>90.4939</td>\n",
              "      <td>17.8055</td>\n",
              "      <td>63</td>\n",
              "      <td>1.39000</td>\n",
              "      <td>8.78855</td>\n",
              "      <td>-7.17954</td>\n",
              "      <td>18.288500</td>\n",
              "      <td>2.0</td>\n",
              "      <td>I0238</td>\n",
              "      <td>1623.0</td>\n",
              "      <td>10.0</td>\n",
              "      <td>10.0</td>\n",
              "      <td>0.0</td>\n",
              "      <td>0.0</td>\n",
              "      <td>0.0</td>\n",
              "      <td>1.5</td>\n",
              "      <td>76.9</td>\n",
              "      <td>5.2</td>\n",
              "      <td>1.5</td>\n",
              "      <td>18.2</td>\n",
              "      <td>4.6</td>\n",
              "    </tr>\n",
              "    <tr>\n",
              "      <th>2018-12-28 12:00:00</th>\n",
              "      <td>5.79450</td>\n",
              "      <td>88.7064</td>\n",
              "      <td>17.8055</td>\n",
              "      <td>63</td>\n",
              "      <td>1.37340</td>\n",
              "      <td>8.82082</td>\n",
              "      <td>5.72836</td>\n",
              "      <td>2.369030</td>\n",
              "      <td>2.0</td>\n",
              "      <td>I0238</td>\n",
              "      <td>1623.0</td>\n",
              "      <td>10.0</td>\n",
              "      <td>10.0</td>\n",
              "      <td>0.0</td>\n",
              "      <td>0.0</td>\n",
              "      <td>0.0</td>\n",
              "      <td>1.5</td>\n",
              "      <td>76.9</td>\n",
              "      <td>5.2</td>\n",
              "      <td>1.5</td>\n",
              "      <td>18.2</td>\n",
              "      <td>4.6</td>\n",
              "    </tr>\n",
              "    <tr>\n",
              "      <th>2018-12-28 18:00:00</th>\n",
              "      <td>5.95544</td>\n",
              "      <td>93.1011</td>\n",
              "      <td>18.1530</td>\n",
              "      <td>63</td>\n",
              "      <td>1.25204</td>\n",
              "      <td>8.19883</td>\n",
              "      <td>1.08100</td>\n",
              "      <td>12.541600</td>\n",
              "      <td>2.0</td>\n",
              "      <td>I0238</td>\n",
              "      <td>1623.0</td>\n",
              "      <td>10.0</td>\n",
              "      <td>10.0</td>\n",
              "      <td>0.0</td>\n",
              "      <td>0.0</td>\n",
              "      <td>0.0</td>\n",
              "      <td>1.5</td>\n",
              "      <td>76.9</td>\n",
              "      <td>5.2</td>\n",
              "      <td>1.5</td>\n",
              "      <td>18.2</td>\n",
              "      <td>4.6</td>\n",
              "    </tr>\n",
              "  </tbody>\n",
              "</table>\n",
              "<p>919 rows × 22 columns</p>\n",
              "</div>"
            ],
            "text/plain": [
              "                     Vessel Latitude  ...  Avg. Win Speed\n",
              "Date                                  ...                \n",
              "2018-01-03 12:00:00         34.14310  ...             3.6\n",
              "2018-01-04 00:00:00         31.20940  ...             3.6\n",
              "2018-01-04 06:00:00         31.95590  ...             3.6\n",
              "2018-01-04 12:00:00         32.70240  ...             3.6\n",
              "2018-01-04 18:00:00         33.44890  ...             3.6\n",
              "...                              ...  ...             ...\n",
              "2018-12-27 18:00:00          5.66443  ...             4.6\n",
              "2018-12-28 00:00:00          5.71861  ...             4.6\n",
              "2018-12-28 06:00:00          5.85843  ...             4.6\n",
              "2018-12-28 12:00:00          5.79450  ...             4.6\n",
              "2018-12-28 18:00:00          5.95544  ...             4.6\n",
              "\n",
              "[919 rows x 22 columns]"
            ]
          },
          "metadata": {},
          "execution_count": 49
        }
      ]
    },
    {
      "cell_type": "code",
      "metadata": {
        "id": "PnxU7DRKwvXP"
      },
      "source": [
        "X_train = train_df.drop(\"Port to\",axis=1)\n",
        "y_train = train_df.loc[:,\"Port to\"].to_frame(name=\"Port to\")\n",
        "X_val = val_df.drop(\"Port to\",axis=1)\n",
        "y_val = val_df.loc[:,\"Port to\"].to_frame(name=\"Port from\")"
      ],
      "execution_count": 50,
      "outputs": []
    },
    {
      "cell_type": "code",
      "metadata": {
        "colab": {
          "base_uri": "https://localhost:8080/"
        },
        "id": "NPCjorgLx_-b",
        "outputId": "f3ad4190-99ca-462f-c7e0-3da79281a8e0"
      },
      "source": [
        "X_train = pd.DataFrame(scaler.fit_transform(X_train),index=X_train.index,columns=X_train.columns)\n",
        "y_train = pd.DataFrame(encoder.fit_transform(y_train),index=y_train.index,columns=y_train.columns)\n",
        "X_val = pd.DataFrame(scaler.fit_transform(X_val),index=X_val.index,columns=X_val.columns)"
      ],
      "execution_count": 51,
      "outputs": [
        {
          "output_type": "stream",
          "text": [
            "/usr/local/lib/python3.7/dist-packages/sklearn/preprocessing/_label.py:251: DataConversionWarning: A column-vector y was passed when a 1d array was expected. Please change the shape of y to (n_samples, ), for example using ravel().\n",
            "  y = column_or_1d(y, warn=True)\n"
          ],
          "name": "stderr"
        }
      ]
    },
    {
      "cell_type": "code",
      "metadata": {
        "id": "RZG7cbDWyCJM"
      },
      "source": [
        " X_train, X_test, y_train, y_test = train_test_split(X_train,y_train,test_size=0.5)"
      ],
      "execution_count": 52,
      "outputs": []
    },
    {
      "cell_type": "code",
      "metadata": {
        "colab": {
          "base_uri": "https://localhost:8080/"
        },
        "id": "FLwS_TKWyD3s",
        "outputId": "1c82bb04-9752-4ad6-b48e-abc5cb5f9e92"
      },
      "source": [
        "RFC = RandomForestClassifier()\n",
        "\n",
        "RFC.fit(X_train,y_train)\n",
        "pred = RFC.predict(X_test)\n",
        "accuracy = accuracy_score(y_test,pred)\n",
        "f1 = f1_score(y_test,pred,average=\"micro\")\n",
        "print(accuracy)\n",
        "print(f1)"
      ],
      "execution_count": 53,
      "outputs": [
        {
          "output_type": "stream",
          "text": [
            "/usr/local/lib/python3.7/dist-packages/ipykernel_launcher.py:3: DataConversionWarning: A column-vector y was passed when a 1d array was expected. Please change the shape of y to (n_samples,), for example using ravel().\n",
            "  This is separate from the ipykernel package so we can avoid doing imports until\n"
          ],
          "name": "stderr"
        },
        {
          "output_type": "stream",
          "text": [
            "0.9652173913043478\n",
            "0.9652173913043478\n"
          ],
          "name": "stdout"
        }
      ]
    },
    {
      "cell_type": "code",
      "metadata": {
        "id": "bhEgO4NOyFeX"
      },
      "source": [
        "val_pred = encoder.inverse_transform(RFC.predict(X_val))"
      ],
      "execution_count": 54,
      "outputs": []
    },
    {
      "cell_type": "code",
      "metadata": {
        "id": "r7PIjE-_yH-z"
      },
      "source": [
        "port_to_result = pd.DataFrame(val_pred,index=val_df.index,columns=[\"Port to\"])\n",
        "port_to_result = pd.concat([port_to_result,date_from,date_to],axis=1)"
      ],
      "execution_count": 55,
      "outputs": []
    },
    {
      "cell_type": "code",
      "metadata": {
        "id": "OJcBC0_Q9vza"
      },
      "source": [
        "result = port_to_result.groupby(\"Date to\")[\"Port to\"].value_counts().to_frame(name=\"Count\")"
      ],
      "execution_count": 65,
      "outputs": []
    },
    {
      "cell_type": "code",
      "metadata": {
        "id": "WC_Cy75AyRg0"
      },
      "source": [
        "result.to_csv(\"/content/drive/MyDrive/Dataset/upa/result/C-001_port_to_result.csv\")"
      ],
      "execution_count": 66,
      "outputs": []
    },
    {
      "cell_type": "code",
      "metadata": {
        "id": "8KNQmbn69jh9"
      },
      "source": [
        ""
      ],
      "execution_count": null,
      "outputs": []
    }
  ]
}
