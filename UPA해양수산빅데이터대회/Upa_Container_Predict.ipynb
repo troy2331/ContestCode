{
  "nbformat": 4,
  "nbformat_minor": 0,
  "metadata": {
    "colab": {
      "name": "upa_예상도착_C-001",
      "provenance": [],
      "collapsed_sections": []
    },
    "kernelspec": {
      "name": "python3",
      "display_name": "Python 3"
    },
    "language_info": {
      "name": "python"
    }
  },
  "cells": [
    {
      "cell_type": "code",
      "metadata": {
        "id": "9JxtOSEslvlJ"
      },
      "source": [
        "import pandas as pd\n",
        "import numpy as np\n",
        "from math import radians, cos, sin, asin, sqrt\n",
        "\n",
        "import matplotlib.pyplot as plt\n",
        "import seaborn as sns\n",
        "\n",
        "from datetime import datetime\n",
        "from datetime import timedelta\n",
        "\n",
        "from sklearn.preprocessing import MinMaxScaler\n",
        "from sklearn.preprocessing import LabelEncoder\n",
        "from sklearn.model_selection import train_test_split\n",
        "\n",
        "from sklearn.cluster import KMeans\n",
        "from sklearn.ensemble import RandomForestClassifier\n",
        "from sklearn.ensemble import RandomForestRegressor\n",
        "from sklearn.ensemble import RandomForestClassifier\n",
        "from sklearn.linear_model import LinearRegression\n",
        "from sklearn.cluster import KMeans\n",
        "\n",
        "from sklearn.metrics import accuracy_score\n",
        "from sklearn.metrics import f1_score\n",
        "from sklearn.metrics import mean_squared_error"
      ],
      "execution_count": null,
      "outputs": []
    },
    {
      "cell_type": "code",
      "metadata": {
        "id": "ftMrGnz497aK"
      },
      "source": [
        "route = pd.read_csv(\"/content/drive/MyDrive/Dataset/upa/result/C-001_route.csv\",index_col=0,parse_dates=[\"Date from\",\"Date to\"])\n",
        "env = pd.read_csv(\"/content/drive/MyDrive/Dataset/upa/C-001_env.csv\",parse_dates=[\"Date\"])\n",
        "route = route.iloc[:160,:]"
      ],
      "execution_count": null,
      "outputs": []
    },
    {
      "cell_type": "code",
      "metadata": {
        "colab": {
          "base_uri": "https://localhost:8080/",
          "height": 297
        },
        "id": "bbf_i89yzTcJ",
        "outputId": "ca5a1525-4978-409d-f2d1-b46b1881e6d0"
      },
      "source": [
        "route.describe() "
      ],
      "execution_count": null,
      "outputs": [
        {
          "output_type": "execute_result",
          "data": {
            "text/html": [
              "<div>\n",
              "<style scoped>\n",
              "    .dataframe tbody tr th:only-of-type {\n",
              "        vertical-align: middle;\n",
              "    }\n",
              "\n",
              "    .dataframe tbody tr th {\n",
              "        vertical-align: top;\n",
              "    }\n",
              "\n",
              "    .dataframe thead th {\n",
              "        text-align: right;\n",
              "    }\n",
              "</style>\n",
              "<table border=\"1\" class=\"dataframe\">\n",
              "  <thead>\n",
              "    <tr style=\"text-align: right;\">\n",
              "      <th></th>\n",
              "      <th>days</th>\n",
              "      <th>Distance</th>\n",
              "      <th>T from</th>\n",
              "      <th>T to</th>\n",
              "      <th>Mega-Ton-mile</th>\n",
              "      <th>Cargo Carried</th>\n",
              "      <th>DFOC</th>\n",
              "      <th>Wave (per istance)</th>\n",
              "      <th>Acc. Fatigue Index</th>\n",
              "      <th>Wind (per istance)</th>\n",
              "      <th>Avg. Wave Height</th>\n",
              "      <th>Avg. Speed</th>\n",
              "      <th>Avg. Wind Spee</th>\n",
              "    </tr>\n",
              "  </thead>\n",
              "  <tbody>\n",
              "    <tr>\n",
              "      <th>count</th>\n",
              "      <td>152.000000</td>\n",
              "      <td>160.000000</td>\n",
              "      <td>160.000000</td>\n",
              "      <td>160.000000</td>\n",
              "      <td>160.000000</td>\n",
              "      <td>160.000000</td>\n",
              "      <td>160.0</td>\n",
              "      <td>160.000000</td>\n",
              "      <td>160.000000</td>\n",
              "      <td>160.000000</td>\n",
              "      <td>160.000000</td>\n",
              "      <td>154.000000</td>\n",
              "      <td>158.000000</td>\n",
              "    </tr>\n",
              "    <tr>\n",
              "      <th>mean</th>\n",
              "      <td>2.067105</td>\n",
              "      <td>1341.187500</td>\n",
              "      <td>12.906250</td>\n",
              "      <td>12.887500</td>\n",
              "      <td>868.356506</td>\n",
              "      <td>5367.806250</td>\n",
              "      <td>0.0</td>\n",
              "      <td>1.907500</td>\n",
              "      <td>148.461250</td>\n",
              "      <td>5.083125</td>\n",
              "      <td>1.915000</td>\n",
              "      <td>14.714935</td>\n",
              "      <td>5.024051</td>\n",
              "    </tr>\n",
              "    <tr>\n",
              "      <th>std</th>\n",
              "      <td>2.165282</td>\n",
              "      <td>1570.720886</td>\n",
              "      <td>2.109568</td>\n",
              "      <td>2.122024</td>\n",
              "      <td>1481.592934</td>\n",
              "      <td>12337.742596</td>\n",
              "      <td>0.0</td>\n",
              "      <td>0.998839</td>\n",
              "      <td>355.006272</td>\n",
              "      <td>2.685653</td>\n",
              "      <td>0.940908</td>\n",
              "      <td>4.860038</td>\n",
              "      <td>2.321608</td>\n",
              "    </tr>\n",
              "    <tr>\n",
              "      <th>min</th>\n",
              "      <td>0.600000</td>\n",
              "      <td>30.000000</td>\n",
              "      <td>7.000000</td>\n",
              "      <td>7.000000</td>\n",
              "      <td>0.000000</td>\n",
              "      <td>0.000000</td>\n",
              "      <td>0.0</td>\n",
              "      <td>0.300000</td>\n",
              "      <td>0.200000</td>\n",
              "      <td>0.700000</td>\n",
              "      <td>0.200000</td>\n",
              "      <td>0.100000</td>\n",
              "      <td>1.300000</td>\n",
              "    </tr>\n",
              "    <tr>\n",
              "      <th>25%</th>\n",
              "      <td>1.100000</td>\n",
              "      <td>311.500000</td>\n",
              "      <td>11.000000</td>\n",
              "      <td>11.000000</td>\n",
              "      <td>0.000000</td>\n",
              "      <td>0.000000</td>\n",
              "      <td>0.0</td>\n",
              "      <td>1.200000</td>\n",
              "      <td>20.150000</td>\n",
              "      <td>3.200000</td>\n",
              "      <td>1.200000</td>\n",
              "      <td>11.700000</td>\n",
              "      <td>3.400000</td>\n",
              "    </tr>\n",
              "    <tr>\n",
              "      <th>50%</th>\n",
              "      <td>1.600000</td>\n",
              "      <td>895.000000</td>\n",
              "      <td>13.000000</td>\n",
              "      <td>13.000000</td>\n",
              "      <td>141.326500</td>\n",
              "      <td>0.000000</td>\n",
              "      <td>0.0</td>\n",
              "      <td>1.700000</td>\n",
              "      <td>54.950000</td>\n",
              "      <td>4.800000</td>\n",
              "      <td>1.700000</td>\n",
              "      <td>16.200000</td>\n",
              "      <td>4.600000</td>\n",
              "    </tr>\n",
              "    <tr>\n",
              "      <th>75%</th>\n",
              "      <td>2.400000</td>\n",
              "      <td>1772.000000</td>\n",
              "      <td>15.000000</td>\n",
              "      <td>15.000000</td>\n",
              "      <td>1137.225000</td>\n",
              "      <td>0.000000</td>\n",
              "      <td>0.0</td>\n",
              "      <td>2.400000</td>\n",
              "      <td>148.475000</td>\n",
              "      <td>6.525000</td>\n",
              "      <td>2.500000</td>\n",
              "      <td>18.575000</td>\n",
              "      <td>6.400000</td>\n",
              "    </tr>\n",
              "    <tr>\n",
              "      <th>max</th>\n",
              "      <td>23.500000</td>\n",
              "      <td>11162.000000</td>\n",
              "      <td>16.000000</td>\n",
              "      <td>16.000000</td>\n",
              "      <td>7892.820000</td>\n",
              "      <td>71570.000000</td>\n",
              "      <td>0.0</td>\n",
              "      <td>5.800000</td>\n",
              "      <td>3912.900000</td>\n",
              "      <td>17.700000</td>\n",
              "      <td>4.400000</td>\n",
              "      <td>20.900000</td>\n",
              "      <td>13.500000</td>\n",
              "    </tr>\n",
              "  </tbody>\n",
              "</table>\n",
              "</div>"
            ],
            "text/plain": [
              "             days      Distance  ...  Avg. Speed  Avg. Wind Spee\n",
              "count  152.000000    160.000000  ...  154.000000      158.000000\n",
              "mean     2.067105   1341.187500  ...   14.714935        5.024051\n",
              "std      2.165282   1570.720886  ...    4.860038        2.321608\n",
              "min      0.600000     30.000000  ...    0.100000        1.300000\n",
              "25%      1.100000    311.500000  ...   11.700000        3.400000\n",
              "50%      1.600000    895.000000  ...   16.200000        4.600000\n",
              "75%      2.400000   1772.000000  ...   18.575000        6.400000\n",
              "max     23.500000  11162.000000  ...   20.900000       13.500000\n",
              "\n",
              "[8 rows x 13 columns]"
            ]
          },
          "metadata": {},
          "execution_count": 372
        }
      ]
    },
    {
      "cell_type": "code",
      "metadata": {
        "id": "5AcYrKuFzZbw"
      },
      "source": [
        "route = route[route[\"Acc. Fatigue Index\"] <= 3900]"
      ],
      "execution_count": null,
      "outputs": []
    },
    {
      "cell_type": "code",
      "metadata": {
        "id": "oeICOaTuDy3L"
      },
      "source": [
        "route.drop([\"Date from\",\"Date to\",\"Port from\",\"Port to\"],axis=1,inplace=True) # 모델링에 필요없는 데이터는 모두 삭제\n",
        "route.drop([\"Mega-Ton-mile\",\"Cargo Carried\",\"DFOC\"],axis=1,inplace=True) # Mega-Ton-mile, Cargo Carried, DFOC 데이터의 경우 대부분이 0인 의미없는 데이터이기 때문에 모델링에서 제외"
      ],
      "execution_count": null,
      "outputs": []
    },
    {
      "cell_type": "code",
      "metadata": {
        "id": "1ZeRFQe8Kzyd"
      },
      "source": [
        "route = pd.DataFrame(scaler.fit_transform(route),columns=route.columns) # 스케일을 맞춰주기 위해 MinMaxScaler로 스케일링 실시 (0~1)"
      ],
      "execution_count": null,
      "outputs": []
    },
    {
      "cell_type": "code",
      "metadata": {
        "id": "c51VxRQ8Chwf"
      },
      "source": [
        "val_index = route.loc[route.days.isnull()].index # 기상 및 속도변수를 통해 도착지까지 걸리는 시간을 예측하는 회귀모형을 구축하는 것이 목표이기 때문에 days가 NaN값인 부분이 Validation set"
      ],
      "execution_count": null,
      "outputs": []
    },
    {
      "cell_type": "code",
      "metadata": {
        "id": "_C1mWxHLDIuY"
      },
      "source": [
        "train_df = route.drop(val_index) # days가 NaN값을 갖지 않는 데이터를 train_df로 정의\n",
        "val_df = route.loc[route.days.isnull()]"
      ],
      "execution_count": null,
      "outputs": []
    },
    {
      "cell_type": "code",
      "metadata": {
        "colab": {
          "base_uri": "https://localhost:8080/"
        },
        "id": "1EDPlWxlFfzp",
        "outputId": "4014d0ac-89d2-41e4-e47f-ebcb12694ece"
      },
      "source": [
        "val_df.isnull().sum() # validation df를 보면 days의 결측값이 8개인것을 확인 할 수 있는데 밑에 Avg speed 및 Avg Wind Speed 또한 결측치를 가지고 있음"
      ],
      "execution_count": null,
      "outputs": [
        {
          "output_type": "execute_result",
          "data": {
            "text/plain": [
              "days                  8\n",
              "Distance              0\n",
              "T from                0\n",
              "T to                  0\n",
              "Wave (per istance)    0\n",
              "Acc. Fatigue Index    0\n",
              "Wind (per istance)    0\n",
              "Avg. Wave Height      0\n",
              "Avg. Speed            6\n",
              "Avg. Wind Spee        2\n",
              "dtype: int64"
            ]
          },
          "metadata": {},
          "execution_count": 378
        }
      ]
    },
    {
      "cell_type": "code",
      "metadata": {
        "id": "oLrbo-BvHPIf"
      },
      "source": [
        "X_val = val_df.drop(\"days\",axis=1) \n",
        "X_val.interpolate(axis=1,inplace=True) # 결측치 처리를 먼저 interpolate을 통해 선형적으로 처리\n",
        "X_val.reset_index(drop=True,inplace=True)"
      ],
      "execution_count": null,
      "outputs": []
    },
    {
      "cell_type": "code",
      "metadata": {
        "id": "AgEK5RjgHumk"
      },
      "source": [
        "X_train = train_df.drop(\"days\",axis=1)\n",
        "y_train = train_df.days"
      ],
      "execution_count": null,
      "outputs": []
    },
    {
      "cell_type": "code",
      "metadata": {
        "id": "2rrvBTotH1_V"
      },
      "source": [
        "X_train, X_test, y_train, y_test = train_test_split(X_train,y_train,test_size=0.2) # 테스트셋은 전체 train셋의 10%를 테스트셋으로 정의"
      ],
      "execution_count": null,
      "outputs": []
    },
    {
      "cell_type": "code",
      "metadata": {
        "colab": {
          "base_uri": "https://localhost:8080/"
        },
        "id": "XTMZTBTZH78f",
        "outputId": "b25322da-fcb2-45c6-9fcb-5a96543029c8"
      },
      "source": [
        "RFR = RandomForestRegressor()\n",
        "\n",
        "RFR.fit(X_train,y_train)\n",
        "pred = RFR.predict(X_test)\n",
        "mse = mean_squared_error(y_test,pred)\n",
        "print(mse) # 테스트셋 정확도(MSE값)"
      ],
      "execution_count": null,
      "outputs": [
        {
          "output_type": "stream",
          "text": [
            "0.012825599952800264\n"
          ],
          "name": "stdout"
        }
      ]
    },
    {
      "cell_type": "code",
      "metadata": {
        "id": "Ay0KI-imoa6F"
      },
      "source": [
        "feature_importance = RFR.feature_importances_.tolist()"
      ],
      "execution_count": null,
      "outputs": []
    },
    {
      "cell_type": "code",
      "metadata": {
        "colab": {
          "base_uri": "https://localhost:8080/",
          "height": 1000
        },
        "id": "L9DBAixHT_Kj",
        "outputId": "1dd1867c-03f2-4a4e-91dd-cd3c8fa4f34c"
      },
      "source": [
        "sns.set_style(\"darkgrid\")\n",
        "plt.figure(figsize=(15,15))\n",
        "plt.pie(feature_importance,labels=X_val.columns,autopct=\"%.2f\")"
      ],
      "execution_count": null,
      "outputs": [
        {
          "output_type": "execute_result",
          "data": {
            "text/plain": [
              "([<matplotlib.patches.Wedge at 0x7f3592276890>,\n",
              "  <matplotlib.patches.Wedge at 0x7f35922810d0>,\n",
              "  <matplotlib.patches.Wedge at 0x7f3592281950>,\n",
              "  <matplotlib.patches.Wedge at 0x7f359228b290>,\n",
              "  <matplotlib.patches.Wedge at 0x7f359228bdd0>,\n",
              "  <matplotlib.patches.Wedge at 0x7f3592216750>,\n",
              "  <matplotlib.patches.Wedge at 0x7f3592216d10>,\n",
              "  <matplotlib.patches.Wedge at 0x7f35922215d0>,\n",
              "  <matplotlib.patches.Wedge at 0x7f359228bad0>],\n",
              " [Text(-0.6604819677480802, 0.8796383178782198, 'Distance'),\n",
              "  Text(-0.2270132185446734, -1.0763201190194247, 'T from'),\n",
              "  Text(-0.07089727551086335, -1.0977128842849286, 'T to'),\n",
              "  Text(0.07661597660673132, -1.0973285707246472, 'Wave (per istance)'),\n",
              "  Text(0.38819654127309666, -1.0292246816626607, 'Acc. Fatigue Index'),\n",
              "  Text(0.6955662579493564, -0.8521664044083935, 'Wind (per istance)'),\n",
              "  Text(0.8764823727224815, -0.6646643140012628, 'Avg. Wave Height'),\n",
              "  Text(1.0429789937426908, -0.3495637547164816, 'Avg. Speed'),\n",
              "  Text(1.0974271259923012, -0.07519111075305569, 'Avg. Wind Spee')],\n",
              " [Text(-0.3602628914989528, 0.4798027188426653, '70.50'),\n",
              "  Text(-0.1238253919334582, -0.5870837012833225, '2.38'),\n",
              "  Text(-0.038671241187743635, -0.5987524823372337, '2.18'),\n",
              "  Text(0.04179053269458071, -0.5985428567588984, '2.09'),\n",
              "  Text(0.21174356796714364, -0.5613952809069057, '7.17'),\n",
              "  Text(0.37939977706328526, -0.4648180387682146, '3.14'),\n",
              "  Text(0.4780812942122626, -0.36254417127341604, '4.42'),\n",
              "  Text(0.5688976329505585, -0.19067113893626267, '5.94'),\n",
              "  Text(0.5985966141776188, -0.04101333313803038, '2.18')])"
            ]
          },
          "metadata": {},
          "execution_count": 384
        },
        {
          "output_type": "display_data",
          "data": {
            "image/png": "[encoded data removed]",
            "text/plain": [
              "<Figure size 1080x1080 with 1 Axes>"
            ]
          },
          "metadata": {}
        }
      ]
    },
    {
      "cell_type": "markdown",
      "metadata": {
        "id": "EJE9bV5EmUcl"
      },
      "source": [
        "# Validation set prediction"
      ]
    },
    {
      "cell_type": "code",
      "metadata": {
        "id": "BuZ3RrG5IESo"
      },
      "source": [
        "pred = RFR.predict(X_val)\n",
        "pred_df = pd.DataFrame(pred,columns=[\"days\"])"
      ],
      "execution_count": null,
      "outputs": []
    },
    {
      "cell_type": "code",
      "metadata": {
        "id": "Lw4KZIDIIH2Z"
      },
      "source": [
        "result_df = pred_df.join(X_val)"
      ],
      "execution_count": null,
      "outputs": []
    },
    {
      "cell_type": "code",
      "metadata": {
        "id": "XNhAycRWJ5cV"
      },
      "source": [
        "result_df = pd.DataFrame(scaler.inverse_transform(result_df),columns=train_df.columns)"
      ],
      "execution_count": null,
      "outputs": []
    },
    {
      "cell_type": "code",
      "metadata": {
        "id": "yVqT9_urKt9m"
      },
      "source": [
        "route = pd.read_csv(\"/content/drive/MyDrive/Dataset/upa/result/C-001_route.csv\",index_col=0,parse_dates=[\"Date from\",\"Date to\"])"
      ],
      "execution_count": null,
      "outputs": []
    },
    {
      "cell_type": "code",
      "metadata": {
        "id": "vPEXAC4yMFmn"
      },
      "source": [
        " index = pd.DataFrame(route.loc[route.days.isnull()][\"Date from\"].to_list(),columns=[\"index\"])\n",
        " result_df = pd.concat([result_df,index],axis=1)"
      ],
      "execution_count": null,
      "outputs": []
    },
    {
      "cell_type": "code",
      "metadata": {
        "id": "CexCJHA4MGXF"
      },
      "source": [
        "result_df.set_index(\"index\",inplace=True)"
      ],
      "execution_count": null,
      "outputs": []
    },
    {
      "cell_type": "code",
      "metadata": {
        "colab": {
          "base_uri": "https://localhost:8080/",
          "height": 328
        },
        "id": "2RDj3OwvMVh6",
        "outputId": "adbca108-b8a7-4040-9bc4-b1401148a2d0"
      },
      "source": [
        "result_df"
      ],
      "execution_count": null,
      "outputs": [
        {
          "output_type": "execute_result",
          "data": {
            "text/html": [
              "<div>\n",
              "<style scoped>\n",
              "    .dataframe tbody tr th:only-of-type {\n",
              "        vertical-align: middle;\n",
              "    }\n",
              "\n",
              "    .dataframe tbody tr th {\n",
              "        vertical-align: top;\n",
              "    }\n",
              "\n",
              "    .dataframe thead th {\n",
              "        text-align: right;\n",
              "    }\n",
              "</style>\n",
              "<table border=\"1\" class=\"dataframe\">\n",
              "  <thead>\n",
              "    <tr style=\"text-align: right;\">\n",
              "      <th></th>\n",
              "      <th>days</th>\n",
              "      <th>Distance</th>\n",
              "      <th>T from</th>\n",
              "      <th>T to</th>\n",
              "      <th>Wave (per istance)</th>\n",
              "      <th>Acc. Fatigue Index</th>\n",
              "      <th>Wind (per istance)</th>\n",
              "      <th>Avg. Wave Height</th>\n",
              "      <th>Avg. Speed</th>\n",
              "      <th>Avg. Wind Spee</th>\n",
              "    </tr>\n",
              "    <tr>\n",
              "      <th>index</th>\n",
              "      <th></th>\n",
              "      <th></th>\n",
              "      <th></th>\n",
              "      <th></th>\n",
              "      <th></th>\n",
              "      <th></th>\n",
              "      <th></th>\n",
              "      <th></th>\n",
              "      <th></th>\n",
              "      <th></th>\n",
              "    </tr>\n",
              "  </thead>\n",
              "  <tbody>\n",
              "    <tr>\n",
              "      <th>2018-01-10 16:55:00</th>\n",
              "      <td>4.175</td>\n",
              "      <td>3920.0</td>\n",
              "      <td>12.0</td>\n",
              "      <td>13.0</td>\n",
              "      <td>1.3</td>\n",
              "      <td>63.2</td>\n",
              "      <td>7.3</td>\n",
              "      <td>1.8</td>\n",
              "      <td>6.789774</td>\n",
              "      <td>4.500000</td>\n",
              "    </tr>\n",
              "    <tr>\n",
              "      <th>2018-01-30 12:20:00</th>\n",
              "      <td>3.027</td>\n",
              "      <td>2899.0</td>\n",
              "      <td>15.0</td>\n",
              "      <td>15.0</td>\n",
              "      <td>0.7</td>\n",
              "      <td>30.1</td>\n",
              "      <td>3.9</td>\n",
              "      <td>0.8</td>\n",
              "      <td>3.972600</td>\n",
              "      <td>4.100000</td>\n",
              "    </tr>\n",
              "    <tr>\n",
              "      <th>2018-02-26 05:15:00</th>\n",
              "      <td>6.152</td>\n",
              "      <td>4138.0</td>\n",
              "      <td>15.0</td>\n",
              "      <td>15.0</td>\n",
              "      <td>2.7</td>\n",
              "      <td>340.1</td>\n",
              "      <td>5.0</td>\n",
              "      <td>2.3</td>\n",
              "      <td>8.454098</td>\n",
              "      <td>5.000000</td>\n",
              "    </tr>\n",
              "    <tr>\n",
              "      <th>2018-04-11 09:33:00</th>\n",
              "      <td>5.438</td>\n",
              "      <td>5700.0</td>\n",
              "      <td>15.0</td>\n",
              "      <td>15.0</td>\n",
              "      <td>1.7</td>\n",
              "      <td>149.8</td>\n",
              "      <td>5.4</td>\n",
              "      <td>1.7</td>\n",
              "      <td>7.991335</td>\n",
              "      <td>6.200000</td>\n",
              "    </tr>\n",
              "    <tr>\n",
              "      <th>2018-05-28 05:13:00</th>\n",
              "      <td>5.224</td>\n",
              "      <td>5932.0</td>\n",
              "      <td>14.0</td>\n",
              "      <td>14.0</td>\n",
              "      <td>1.4</td>\n",
              "      <td>103.9</td>\n",
              "      <td>6.4</td>\n",
              "      <td>1.3</td>\n",
              "      <td>19.400000</td>\n",
              "      <td>12.620192</td>\n",
              "    </tr>\n",
              "    <tr>\n",
              "      <th>2018-07-15 10:33:00</th>\n",
              "      <td>1.451</td>\n",
              "      <td>866.0</td>\n",
              "      <td>7.0</td>\n",
              "      <td>9.0</td>\n",
              "      <td>3.1</td>\n",
              "      <td>1263.4</td>\n",
              "      <td>9.4</td>\n",
              "      <td>3.1</td>\n",
              "      <td>11.200000</td>\n",
              "      <td>7.810577</td>\n",
              "    </tr>\n",
              "    <tr>\n",
              "      <th>2018-09-29 01:57:00</th>\n",
              "      <td>4.330</td>\n",
              "      <td>5418.0</td>\n",
              "      <td>11.0</td>\n",
              "      <td>11.0</td>\n",
              "      <td>1.5</td>\n",
              "      <td>77.3</td>\n",
              "      <td>7.7</td>\n",
              "      <td>1.4</td>\n",
              "      <td>7.759953</td>\n",
              "      <td>6.800000</td>\n",
              "    </tr>\n",
              "    <tr>\n",
              "      <th>2018-12-22 11:29:00</th>\n",
              "      <td>3.820</td>\n",
              "      <td>3716.0</td>\n",
              "      <td>14.0</td>\n",
              "      <td>10.0</td>\n",
              "      <td>1.5</td>\n",
              "      <td>76.9</td>\n",
              "      <td>5.2</td>\n",
              "      <td>1.5</td>\n",
              "      <td>6.132162</td>\n",
              "      <td>4.600000</td>\n",
              "    </tr>\n",
              "  </tbody>\n",
              "</table>\n",
              "</div>"
            ],
            "text/plain": [
              "                      days  Distance  ...  Avg. Speed  Avg. Wind Spee\n",
              "index                                 ...                            \n",
              "2018-01-10 16:55:00  4.175    3920.0  ...    6.789774        4.500000\n",
              "2018-01-30 12:20:00  3.027    2899.0  ...    3.972600        4.100000\n",
              "2018-02-26 05:15:00  6.152    4138.0  ...    8.454098        5.000000\n",
              "2018-04-11 09:33:00  5.438    5700.0  ...    7.991335        6.200000\n",
              "2018-05-28 05:13:00  5.224    5932.0  ...   19.400000       12.620192\n",
              "2018-07-15 10:33:00  1.451     866.0  ...   11.200000        7.810577\n",
              "2018-09-29 01:57:00  4.330    5418.0  ...    7.759953        6.800000\n",
              "2018-12-22 11:29:00  3.820    3716.0  ...    6.132162        4.600000\n",
              "\n",
              "[8 rows x 10 columns]"
            ]
          },
          "metadata": {},
          "execution_count": 391
        }
      ]
    }
  ]
}
